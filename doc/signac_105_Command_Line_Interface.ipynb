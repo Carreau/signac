{
 "cells": [
  {
   "cell_type": "markdown",
   "metadata": {},
   "source": [
    "# 1.5 Command Line Interface (CLI)\n",
    "\n",
    "The following section demonstrates how to use the **signac** command line interface (CLI).\n",
    "The CLI allows you to interact with your data space without python, which may be advantageous in various situations, e.g., for scripting or data exploration.\n",
    "\n",
    "You will find that for many of the functions introduced earlier there is an equivalent CLI command.\n",
    "\n",
    "The CLI is accessed via the top-level ``signac`` command.\n",
    "You can get help about the various functions with the `-h` or `--help` argument."
   ]
  },
  {
   "cell_type": "code",
   "execution_count": 1,
   "metadata": {
    "collapsed": false,
    "scrolled": true
   },
   "outputs": [
    {
     "name": "stdout",
     "output_type": "stream",
     "text": [
      "usage: signac [-h] [--debug] [--version] [-y]\n",
      "              {init,project,job,statepoint,index,find,view,config} ...\n",
      "\n",
      "signac aids in the management, access and analysis of large-scale\n",
      "computational investigations.\n",
      "\n",
      "positional arguments:\n",
      "  {init,project,job,statepoint,index,find,view,config}\n",
      "\n",
      "optional arguments:\n",
      "  -h, --help            show this help message and exit\n",
      "  --debug               Show traceback on error for debugging.\n",
      "  --version             Display the version number and exit.\n",
      "  -y, --yes             Answer all questions with yes. Useful for scripted\n",
      "                        interaction.\n"
     ]
    }
   ],
   "source": [
    "%%bash\n",
    "signac --help"
   ]
  },
  {
   "cell_type": "markdown",
   "metadata": {},
   "source": [
    "To interact with a project on the command line, the current working directory needs to be within or below the project's root directory.\n",
    "Let's start by reseting the designated project root directory for this section of the tutorial."
   ]
  },
  {
   "cell_type": "code",
   "execution_count": 2,
   "metadata": {
    "collapsed": false
   },
   "outputs": [],
   "source": [
    "% rm -rf projects/tutorial/cli\n",
    "% mkdir -p projects/tutorial/cli"
   ]
  },
  {
   "cell_type": "markdown",
   "metadata": {},
   "source": [
    "Next we switch the current working directory to the project root directory."
   ]
  },
  {
   "cell_type": "code",
   "execution_count": 3,
   "metadata": {
    "collapsed": false
   },
   "outputs": [
    {
     "name": "stdout",
     "output_type": "stream",
     "text": [
      "/home/johndoe/signac-examples/notebooks/projects/tutorial/cli\n"
     ]
    }
   ],
   "source": [
    "% cd projects/tutorial/cli"
   ]
  },
  {
   "cell_type": "markdown",
   "metadata": {},
   "source": [
    "Then we initialize the project."
   ]
  },
  {
   "cell_type": "code",
   "execution_count": 4,
   "metadata": {
    "collapsed": false
   },
   "outputs": [
    {
     "name": "stderr",
     "output_type": "stream",
     "text": [
      "Initialized project 'TutorialCLIProject'.\n"
     ]
    }
   ],
   "source": [
    "%%bash\n",
    "signac init TutorialCLIProject"
   ]
  },
  {
   "cell_type": "markdown",
   "metadata": {},
   "source": [
    "We can verify the project configuration using the `signac project` command."
   ]
  },
  {
   "cell_type": "code",
   "execution_count": 5,
   "metadata": {
    "collapsed": false
   },
   "outputs": [
    {
     "name": "stdout",
     "output_type": "stream",
     "text": [
      "TutorialCLIProject\n",
      "/home/johndoe/signac-examples/notebooks/projects/tutorial/cli/workspace\n"
     ]
    }
   ],
   "source": [
    "%%bash\n",
    "signac project\n",
    "signac project --workspace"
   ]
  },
  {
   "cell_type": "markdown",
   "metadata": {},
   "source": [
    "We access a job by providing the state point on the command line in JSON format †).\n",
    "\n",
    "†) *The JSON format requires double quotes for keys.*"
   ]
  },
  {
   "cell_type": "code",
   "execution_count": 6,
   "metadata": {
    "collapsed": false
   },
   "outputs": [
    {
     "name": "stdout",
     "output_type": "stream",
     "text": [
      "ee617ad585a90809947709a7a45dda9a\n"
     ]
    }
   ],
   "source": [
    "%%bash\n",
    "signac job '{\"kT\": 1.0, \"p\": 1.0, \"N\": 1000}'"
   ]
  },
  {
   "cell_type": "markdown",
   "metadata": {},
   "source": [
    "By default this will print the associated *job id* to STDOUT."
   ]
  },
  {
   "cell_type": "markdown",
   "metadata": {},
   "source": [
    "Instead of the *job id*, we can also get the path to the job's workspace."
   ]
  },
  {
   "cell_type": "code",
   "execution_count": 7,
   "metadata": {
    "collapsed": false
   },
   "outputs": [
    {
     "name": "stdout",
     "output_type": "stream",
     "text": [
      "/home/johndoe/signac-examples/notebooks/projects/tutorial/cli/workspace/ee617ad585a90809947709a7a45dda9a\n"
     ]
    }
   ],
   "source": [
    "%%bash\n",
    "signac job '{\"kT\": 1.0, \"p\": 1.0, \"N\": 1000}' --workspace"
   ]
  },
  {
   "cell_type": "markdown",
   "metadata": {},
   "source": [
    "Please not, that obtaining the path in this way does not necessarily mean that the path exists.\n",
    "However, we can initialize the job and create the workspace using the `-c` or `--create` argument."
   ]
  },
  {
   "cell_type": "code",
   "execution_count": 8,
   "metadata": {
    "collapsed": false
   },
   "outputs": [
    {
     "name": "stdout",
     "output_type": "stream",
     "text": [
      "ee617ad585a90809947709a7a45dda9a\n"
     ]
    }
   ],
   "source": [
    "%%bash\n",
    "signac job '{\"kT\": 1.0, \"p\": 1.0, \"N\": 1000}' --create"
   ]
  },
  {
   "cell_type": "markdown",
   "metadata": {},
   "source": [
    "We can use the `signac statepoint` command to get the statepoint associated with the *initialized* job."
   ]
  },
  {
   "cell_type": "code",
   "execution_count": 9,
   "metadata": {
    "collapsed": false
   },
   "outputs": [
    {
     "name": "stdout",
     "output_type": "stream",
     "text": [
      "{\"N\": 1000, \"kT\": 1.0, \"p\": 1.0}\n"
     ]
    }
   ],
   "source": [
    "%%bash\n",
    "signac statepoint ee617ad585a90809947709a7a45dda9a"
   ]
  },
  {
   "cell_type": "markdown",
   "metadata": {},
   "source": [
    "Usually we will not provide statepoints on the command line, but read them from a file.\n",
    "Let's create a statepoint file with one statepoint:"
   ]
  },
  {
   "cell_type": "code",
   "execution_count": 10,
   "metadata": {
    "collapsed": false
   },
   "outputs": [
    {
     "name": "stdout",
     "output_type": "stream",
     "text": [
      "{\"kT\": 1.0, \"p\": 0.1, \"N\": 1000}\n"
     ]
    }
   ],
   "source": [
    "%%bash\n",
    "echo '{\"kT\": 1.0, \"p\": 0.1, \"N\": 1000}' > statepoint.txt\n",
    "cat statepoint.txt"
   ]
  },
  {
   "cell_type": "markdown",
   "metadata": {},
   "source": [
    "We can pipe the content of this file into the **signac** CLI to get the corresponding *job id*."
   ]
  },
  {
   "cell_type": "code",
   "execution_count": 11,
   "metadata": {
    "collapsed": false
   },
   "outputs": [
    {
     "name": "stdout",
     "output_type": "stream",
     "text": [
      "5a6c687f7655319db24de59a2336eff8\n"
     ]
    }
   ],
   "source": [
    "%%bash\n",
    "cat statepoint.txt | signac job"
   ]
  },
  {
   "cell_type": "markdown",
   "metadata": {},
   "source": [
    "We will reproduce the ideal gas project from section 1.1 to generate some data for the following examples."
   ]
  },
  {
   "cell_type": "code",
   "execution_count": 12,
   "metadata": {
    "collapsed": false
   },
   "outputs": [],
   "source": [
    "import signac\n",
    "\n",
    "def V_idg(N, p, kT):\n",
    "    return N * kT / p\n",
    "\n",
    "project = signac.get_project()\n",
    "for p in 0.1, 1.0, 10.0:\n",
    "    sp = {'p': p, 'kT': 1.0, 'N': 1000}\n",
    "    job = project.open_job(sp)\n",
    "    job.document['V'] = V_idg(**sp)"
   ]
  },
  {
   "cell_type": "markdown",
   "metadata": {},
   "source": [
    "We can use the `signac find` command to find all jobs within our project's workspace."
   ]
  },
  {
   "cell_type": "code",
   "execution_count": 13,
   "metadata": {
    "collapsed": false
   },
   "outputs": [
    {
     "name": "stdout",
     "output_type": "stream",
     "text": [
      "5a456c131b0c5897804a4af8e77df5aa\n",
      "5a6c687f7655319db24de59a2336eff8\n",
      "ee617ad585a90809947709a7a45dda9a\n"
     ]
    },
    {
     "name": "stderr",
     "output_type": "stream",
     "text": [
      "Indexing project...\n"
     ]
    }
   ],
   "source": [
    "%%bash\n",
    "signac find"
   ]
  },
  {
   "cell_type": "markdown",
   "metadata": {},
   "source": [
    "Just like with `project.find_jobs()` we can provide a filter argument to find a subset of jobs matching the given filter.\n",
    "Here we get all jobs with a pressure of 0.1:"
   ]
  },
  {
   "cell_type": "code",
   "execution_count": 14,
   "metadata": {
    "collapsed": false
   },
   "outputs": [
    {
     "name": "stdout",
     "output_type": "stream",
     "text": [
      "5a6c687f7655319db24de59a2336eff8\n"
     ]
    },
    {
     "name": "stderr",
     "output_type": "stream",
     "text": [
      "Indexing project...\n"
     ]
    }
   ],
   "source": [
    "%%bash\n",
    "signac find '{\"p\": 0.1}'"
   ]
  },
  {
   "cell_type": "markdown",
   "metadata": {},
   "source": [
    "In this example, that is of course only one job.\n",
    "\n",
    "We can pipe `signac find` results into `signac statepoint` with `xargs` to resolve the statepoints."
   ]
  },
  {
   "cell_type": "code",
   "execution_count": 15,
   "metadata": {
    "collapsed": false
   },
   "outputs": [
    {
     "name": "stdout",
     "output_type": "stream",
     "text": [
      "{\"kT\": 1.0, \"N\": 1000, \"p\": 10.0}\n",
      "{\"kT\": 1.0, \"N\": 1000, \"p\": 0.1}\n",
      "{\"kT\": 1.0, \"N\": 1000, \"p\": 1.0}\n"
     ]
    },
    {
     "name": "stderr",
     "output_type": "stream",
     "text": [
      "Indexing project...\n"
     ]
    }
   ],
   "source": [
    "%%bash\n",
    "signac find | xargs signac statepoint"
   ]
  },
  {
   "cell_type": "markdown",
   "metadata": {},
   "source": [
    "You will have noticed that each time we execute a *find* operation the data space is indexed anew.\n",
    "\n",
    "This is no problem for small data spaces, however especially for larger data spaces, where the indexing process may be substantially expensive it's advantageous to cache the index in a file."
   ]
  },
  {
   "cell_type": "code",
   "execution_count": 16,
   "metadata": {
    "collapsed": false
   },
   "outputs": [
    {
     "name": "stderr",
     "output_type": "stream",
     "text": [
      "Indexing project...\n"
     ]
    }
   ],
   "source": [
    "%%bash\n",
    "signac index > index.txt"
   ]
  },
  {
   "cell_type": "markdown",
   "metadata": {},
   "source": [
    "This index file can be used in conjunction with all functions that require a data space index, for example `signac find`:"
   ]
  },
  {
   "cell_type": "code",
   "execution_count": 17,
   "metadata": {
    "collapsed": false
   },
   "outputs": [
    {
     "name": "stdout",
     "output_type": "stream",
     "text": [
      "5a6c687f7655319db24de59a2336eff8\n"
     ]
    },
    {
     "name": "stderr",
     "output_type": "stream",
     "text": [
      "Reading index from file 'index.txt'...\n"
     ]
    }
   ],
   "source": [
    "%%bash\n",
    "signac find -i index.txt '{\"p\": 0.1}'"
   ]
  },
  {
   "cell_type": "markdown",
   "metadata": {},
   "source": [
    "Or for instance when creating a linked view."
   ]
  },
  {
   "cell_type": "code",
   "execution_count": 18,
   "metadata": {
    "collapsed": false
   },
   "outputs": [
    {
     "name": "stderr",
     "output_type": "stream",
     "text": [
      "Reading index from file 'index.txt'...\n"
     ]
    }
   ],
   "source": [
    "%%bash\n",
    "mkdir -p view\n",
    "signac view -i index.txt ./view"
   ]
  },
  {
   "cell_type": "markdown",
   "metadata": {},
   "source": [
    "The `signac view` command works exactly like `project.create_linked_view` such that the `./view` directory now contains a linked view to the job workspaces."
   ]
  },
  {
   "cell_type": "code",
   "execution_count": 19,
   "metadata": {
    "collapsed": false
   },
   "outputs": [
    {
     "name": "stdout",
     "output_type": "stream",
     "text": [
      "\u001b[0m\u001b[01;34mp_0.1\u001b[0m/  \u001b[01;34mp_1.0\u001b[0m/  \u001b[01;34mp_10.0\u001b[0m/\r\n"
     ]
    }
   ],
   "source": [
    "%ls view"
   ]
  },
  {
   "cell_type": "markdown",
   "metadata": {},
   "source": [
    "This concludes the first chapter of the tutorial.\n",
    "The next chapter introduces a few more advanced topics.\n",
    "\n",
    "[Return to index](index.ipynb)"
   ]
  }
 ],
 "metadata": {
  "anaconda-cloud": {},
  "kernelspec": {
   "display_name": "Python [default]",
   "language": "python",
   "name": "python3"
  },
  "language_info": {
   "codemirror_mode": {
    "name": "ipython",
    "version": 3
   },
   "file_extension": ".py",
   "mimetype": "text/x-python",
   "name": "python",
   "nbconvert_exporter": "python",
   "pygments_lexer": "ipython3",
   "version": "3.5.2"
  }
 },
 "nbformat": 4,
 "nbformat_minor": 1
}

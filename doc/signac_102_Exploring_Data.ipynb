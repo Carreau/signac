{
 "cells": [
  {
   "cell_type": "markdown",
   "metadata": {},
   "source": [
    "# 1.2 Exploring Data\n",
    "\n",
    "## Finding jobs\n",
    "\n",
    "In [section one](signac_101_Getting_Started.ipynb) of this tutorial, we evaluated the ideal gas equation and stored the results in the *job document* and in a file called `V.txt`.\n",
    "Let's now have a look at how we can explore our data space for basic and advanced analysis.\n",
    "\n",
    "We already saw how to iterate over the *complete* data space using the `find_jobs()` method.\n",
    "Instead of finding all jobs, we can also find a subset using *filters*.\n",
    "\n",
    "Let's get started by getting a handle on our project using the `get_project()` function.\n",
    "We don't need to initialize the project again, since we already did that in section 1."
   ]
  },
  {
   "cell_type": "code",
   "execution_count": 1,
   "metadata": {
    "collapsed": false
   },
   "outputs": [],
   "source": [
    "import signac\n",
    "project = signac.get_project('projects/tutorial')"
   ]
  },
  {
   "cell_type": "markdown",
   "metadata": {},
   "source": [
    "Next, we assume that we would like to find all jobs, where *p=10.0*. For this, we can use the find_jobs function, which takes a dictionary of parameters as filter argument."
   ]
  },
  {
   "cell_type": "code",
   "execution_count": 2,
   "metadata": {
    "collapsed": false
   },
   "outputs": [
    {
     "name": "stdout",
     "output_type": "stream",
     "text": [
      "{'N': 1000, 'kT': 1.0, 'p': 10.0}\n"
     ]
    }
   ],
   "source": [
    "for job in project.find_jobs({'p': 10.0}):\n",
    "    print(job.statepoint())"
   ]
  },
  {
   "cell_type": "markdown",
   "metadata": {},
   "source": [
    "In this case, that is of course only a single job.\n",
    "\n",
    "You can execute the same kind of find operation on the [command line](signac_105_Command_Line_Interface.ipynb) with `$ signac find`, as will be shown later."
   ]
  },
  {
   "cell_type": "markdown",
   "metadata": {},
   "source": [
    "While the filtering method is optimized for a simple dissection of the data space, it is possible to construct more complex query routines for example using [list comprehensions](https://docs.python.org/3/tutorial/datastructures.html#list-comprehensions).\n",
    "\n",
    "This is an example for how to select all jobs where the pressure *p* is greater than 0.1:"
   ]
  },
  {
   "cell_type": "code",
   "execution_count": 3,
   "metadata": {
    "collapsed": false
   },
   "outputs": [
    {
     "name": "stdout",
     "output_type": "stream",
     "text": [
      "{'N': 1000, 'kT': 1.0, 'p': 10.0} {'V': 100.0}\n",
      "{'N': 1000, 'kT': 1.0, 'p': 1.0} {'V': 1000.0}\n"
     ]
    }
   ],
   "source": [
    "jobs_p_gt_0_1 = [job for job in project.find_jobs() if job.statepoint()['p'] > 0.1]\n",
    "for job in jobs_p_gt_0_1:\n",
    "    print(job.statepoint(), job.document)"
   ]
  },
  {
   "cell_type": "markdown",
   "metadata": {},
   "source": [
    "Finding jobs by certain criteria requires an index of the data space.\n",
    "In all previous examples this index was created implicitly, however depending on the data space size, it may make sense to create the index explicitly for multiple uses. This is shown in the next section."
   ]
  },
  {
   "cell_type": "markdown",
   "metadata": {},
   "source": [
    "## Indexing\n",
    "\n",
    "An index is a complete record of the data and its associated metadata within our project’s data space. To create an index, we need to crawl through the project’s data space, for example by calling the `index()` method:"
   ]
  },
  {
   "cell_type": "code",
   "execution_count": 4,
   "metadata": {
    "collapsed": false
   },
   "outputs": [
    {
     "name": "stdout",
     "output_type": "stream",
     "text": [
      "{'_id': '5a456c131b0c5897804a4af8e77df5aa', 'V': 100.0, 'statepoint': {'N': 1000, 'kT': 1.0, 'p': 10.0}, 'signac_id': '5a456c131b0c5897804a4af8e77df5aa'}\n",
      "{'_id': '5a6c687f7655319db24de59a2336eff8', 'V': 10000.0, 'statepoint': {'N': 1000, 'kT': 1.0, 'p': 0.1}, 'signac_id': '5a6c687f7655319db24de59a2336eff8'}\n",
      "{'_id': 'ee617ad585a90809947709a7a45dda9a', 'V': 1000.0, 'statepoint': {'N': 1000, 'kT': 1.0, 'p': 1.0}, 'signac_id': 'ee617ad585a90809947709a7a45dda9a'}\n"
     ]
    }
   ],
   "source": [
    "for doc in project.index():\n",
    "    print(doc)"
   ]
  },
  {
   "cell_type": "markdown",
   "metadata": {},
   "source": [
    "*Crawling* here refers to collecting information from files within a certain data space, which may be a set of directories or other sources.\n",
    "Each index document contains at least the state point parameters and the contents of the *job document*.\n",
    "\n",
    "You can store the index wherever it may be useful, e.g., a file, a database, or even just in a variable for repeated find operations within one script."
   ]
  },
  {
   "cell_type": "code",
   "execution_count": 5,
   "metadata": {
    "collapsed": false
   },
   "outputs": [
    {
     "name": "stdout",
     "output_type": "stream",
     "text": [
      "{'N': 1000, 'kT': 1.0, 'p': 10.0}\n",
      "{'N': 1000, 'kT': 1.0, 'p': 1.0}\n"
     ]
    }
   ],
   "source": [
    "# Create the index once\n",
    "index = list(project.index())\n",
    "\n",
    "# Use it multiple times\n",
    "for job in project.find_jobs({'p': 10.0}, index=index):\n",
    "    print(job.statepoint())\n",
    "    \n",
    "for job in project.find_jobs({'p': 1.0}, index=index):\n",
    "    print(job.statepoint())"
   ]
  },
  {
   "cell_type": "markdown",
   "metadata": {},
   "source": [
    "## Views\n",
    "\n",
    "Sometimes we want to examine our data on the file system directly. However the file paths within the workspace are obfuscated by the *job id*. The solution is to use *views*, which are human-readable, maximally compact hierarchical links to our data space.\n",
    "\n",
    "To create a linked view we simply execute the `create_linked_view()` method within python or the `$ signac view` command on the [command line](signac_105_Command_Line_Interface.ipynb)."
   ]
  },
  {
   "cell_type": "code",
   "execution_count": 6,
   "metadata": {
    "collapsed": false
   },
   "outputs": [
    {
     "name": "stdout",
     "output_type": "stream",
     "text": [
      "\u001b[34mp_0.1\u001b[m\u001b[m/  \u001b[34mp_1.0\u001b[m\u001b[m/  \u001b[34mp_10.0\u001b[m\u001b[m/\r\n"
     ]
    }
   ],
   "source": [
    "# Create an empty view directory\n",
    "% rm -rf projects/tutorial/view\n",
    "% mkdir projects/tutorial/view\n",
    "\n",
    "# Create the linked view within the view directory\n",
    "project.create_linked_view(prefix='projects/tutorial/view')\n",
    "% ls projects/tutorial/view"
   ]
  },
  {
   "cell_type": "markdown",
   "metadata": {},
   "source": [
    "The view paths only contain parameters which actually vary across the different jobs.\n",
    "In this example, that is only the pressure *p*.\n",
    "\n",
    "This allows us to examine the data with highly-compact human-readable path names:"
   ]
  },
  {
   "cell_type": "code",
   "execution_count": 7,
   "metadata": {
    "collapsed": false
   },
   "outputs": [
    {
     "name": "stdout",
     "output_type": "stream",
     "text": [
      "V.txt                     signac_job_document.json  signac_statepoint.json\r\n",
      "1000.0\r\n"
     ]
    }
   ],
   "source": [
    "% ls 'projects/tutorial/view/p_1.0/job/'\n",
    "% cat 'projects/tutorial/view/p_1.0/job/V.txt'"
   ]
  },
  {
   "cell_type": "markdown",
   "metadata": {},
   "source": [
    "Tip: Consider creating a linked view for large data sets on an [**in-memory** file system](https://en.wikipedia.org/wiki/Tmpfs) for best performance!"
   ]
  },
  {
   "cell_type": "markdown",
   "metadata": {},
   "source": [
    "The [next section](signac_103_A_Basic_Workflow.ipynb) will demonstrate how to implement a basic, but complete workflow for more expensive computations."
   ]
  }
 ],
 "metadata": {
  "language_info": {
   "codemirror_mode": {
    "name": "ipython",
    "version": 3
   },
   "file_extension": ".py",
   "mimetype": "text/x-python",
   "name": "python",
   "nbconvert_exporter": "python",
   "pygments_lexer": "ipython3",
   "version": "3.5.2"
  }
 },
 "nbformat": 4,
 "nbformat_minor": 1
}

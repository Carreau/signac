{
 "cells": [
  {
   "cell_type": "markdown",
   "metadata": {},
   "source": [
    "# 2.1 Advanced Indexing\n",
    "\n",
    "## Indexing files\n",
    "\n",
    "As was shown earlier, we can create an index of the data space using the `index()` method:"
   ]
  },
  {
   "cell_type": "code",
   "execution_count": 1,
   "metadata": {
    "collapsed": false
   },
   "outputs": [
    {
     "name": "stdout",
     "output_type": "stream",
     "text": [
      "{'V_liq': 32.8033857086239, 'signac_id': '732fb26b0b6fb83687625248b1f0a0b6', '_id': '732fb26b0b6fb83687625248b1f0a0b6', 'V_gas': 416.2699738123549, 'fluid': 'argon', 'statepoint': {'a': 1.355, 'kT': 1.0, 'p': 1.2000000000000002, 'b': 0.03201, 'N': 1000}}\n",
      "{'V_liq': 30.65957481807377, 'signac_id': 'fdfd39a204f42e56bbe1b9c861674430', '_id': 'fdfd39a204f42e56bbe1b9c861674430', 'V_gas': 64.0177766935273, 'fluid': 'water', 'statepoint': {'a': 5.536, 'kT': 1.0, 'p': 7.800000000000001, 'b': 0.03049, 'N': 1000}}\n",
      "{'V_liq': 30.659542839653493, 'signac_id': 'e578035d17bbb374a03d4af7c3f9ecaa', '_id': 'e578035d17bbb374a03d4af7c3f9ecaa', 'V_gas': 56.09500386107218, 'fluid': 'water', 'statepoint': {'a': 5.536, 'kT': 1.0, 'p': 8.9, 'b': 0.03049, 'N': 1000}}\n"
     ]
    }
   ],
   "source": [
    "import signac\n",
    "from itertools import islice\n",
    "\n",
    "project = signac.get_project(root='projects/tutorial')\n",
    "index = list(project.index())\n",
    "\n",
    "for doc in index[:3]:\n",
    "    print(doc)"
   ]
  },
  {
   "cell_type": "markdown",
   "metadata": {},
   "source": [
    "At this point the index contains information about the statepoint and all data stored in the job document.\n",
    "If we want to include the `V.txt` text files we used to store data in, with the index, we need to tell **signac** the filename pattern and the file format.\n",
    "Any python class may serve as a format definition.\n",
    "\n",
    "We will specify that in additon to the job documents, all files matching the regular expression `.*/V\\.txt` are to be indexed as `MyTextFile`."
   ]
  },
  {
   "cell_type": "code",
   "execution_count": 2,
   "metadata": {
    "collapsed": false
   },
   "outputs": [
    {
     "name": "stderr",
     "output_type": "stream",
     "text": [
      "/home/simon/miniconda3/lib/python3.5/site-packages/signac-0.5.0-py3.5.egg/signac/contrib/crawler.py:189: UserWarning: Format <class '__main__.MyTextFile'> has no read() method.\n",
      "/home/simon/miniconda3/lib/python3.5/site-packages/signac-0.5.0-py3.5.egg/signac/contrib/crawler.py:189: UserWarning: Format <class '__main__.MyTextFile'> has no close() method.\n"
     ]
    }
   ],
   "source": [
    "class MyTextFile(object):\n",
    "    pass\n",
    "\n",
    "definitions = {'.*/V\\.txt': MyTextFile}\n",
    "index = list(project.index(definitions))"
   ]
  },
  {
   "cell_type": "markdown",
   "metadata": {},
   "source": [
    "You will notice that **signac** is warning us that the `MyTextFile` class has no `read()` and no `close()` method.\n",
    "The exact reason why this is important will become clear in the section about master crawlers, but we can fix this problem for now by extending our class declaration slightly."
   ]
  },
  {
   "cell_type": "code",
   "execution_count": 3,
   "metadata": {
    "collapsed": false
   },
   "outputs": [],
   "source": [
    "class MyTextFile(object):\n",
    "    \n",
    "    def __init__(self, fd):\n",
    "        self.fd = fd\n",
    "        \n",
    "    def read(self):\n",
    "        return self.fd.read()\n",
    "    \n",
    "    def close(self):\n",
    "        self.fd.close()\n",
    "\n",
    "definitions = {'.*/V\\.txt': MyTextFile}\n",
    "index = list(project.index(definitions))"
   ]
  },
  {
   "cell_type": "markdown",
   "metadata": {},
   "source": [
    "And because this is a very common pattern, we don't need to implement this everytime, but can simply use or specialize **signac**'s `TextFile` class."
   ]
  },
  {
   "cell_type": "code",
   "execution_count": 4,
   "metadata": {
    "collapsed": false
   },
   "outputs": [],
   "source": [
    "from signac.contrib.formats import TextFile\n",
    "\n",
    "index = list(project.index({'.*/V\\.txt': TextFile}))"
   ]
  },
  {
   "cell_type": "markdown",
   "metadata": {},
   "source": [
    "Accessing files via the index is useful, for example to select specific data sub sets."
   ]
  },
  {
   "cell_type": "code",
   "execution_count": 5,
   "metadata": {
    "collapsed": false
   },
   "outputs": [
    {
     "name": "stdout",
     "output_type": "stream",
     "text": [
      "p= 1.2000000000000002 V= 32.8033857086239,416.2699738123549\n",
      "p= 3.4000000000000004 V= 32.80193336746696,146.6628568456784\n",
      "p= 0.1 V= 32.804113976682224,8430.935727416612\n"
     ]
    }
   ],
   "source": [
    "import os\n",
    "\n",
    "def select(doc):\n",
    "    return 'TextFile' in doc.get('format', '') and doc['statepoint']['p'] < 5.0\n",
    "\n",
    "docs_selected = [doc for doc in index if select(doc)]\n",
    "for doc in docs_selected[:3]:\n",
    "    print('p=', doc['statepoint']['p'], end=' ')\n",
    "    fn = os.path.join(doc['root'], doc['filename'])\n",
    "    with open(fn) as file:\n",
    "        print('V=', file.read().strip())"
   ]
  },
  {
   "cell_type": "markdown",
   "metadata": {},
   "source": [
    "## Customized Project Crawlers\n",
    "\n",
    "The `index()` function as well as the `$ signac index` command internally creater a `Crawler` instance to crawl through the data space and create the index.\n",
    "To have more control over the indexing process, we can do this explicitly:"
   ]
  },
  {
   "cell_type": "code",
   "execution_count": 6,
   "metadata": {
    "collapsed": false
   },
   "outputs": [
    {
     "name": "stdout",
     "output_type": "stream",
     "text": [
      "{'V_liq': 32.8033857086239, 'signac_id': '732fb26b0b6fb83687625248b1f0a0b6', '_id': '732fb26b0b6fb83687625248b1f0a0b6', 'V_gas': 416.2699738123549, 'fluid': 'argon', 'statepoint': {'a': 1.355, 'kT': 1.0, 'p': 1.2000000000000002, 'b': 0.03201, 'N': 1000}}\n",
      "{'V_liq': 30.65957481807377, 'signac_id': 'fdfd39a204f42e56bbe1b9c861674430', '_id': 'fdfd39a204f42e56bbe1b9c861674430', 'V_gas': 64.0177766935273, 'fluid': 'water', 'statepoint': {'a': 5.536, 'kT': 1.0, 'p': 7.800000000000001, 'b': 0.03049, 'N': 1000}}\n",
      "{'V_liq': 30.659542839653493, 'signac_id': 'e578035d17bbb374a03d4af7c3f9ecaa', '_id': 'e578035d17bbb374a03d4af7c3f9ecaa', 'V_gas': 56.09500386107218, 'fluid': 'water', 'statepoint': {'a': 5.536, 'kT': 1.0, 'p': 8.9, 'b': 0.03049, 'N': 1000}}\n"
     ]
    }
   ],
   "source": [
    "from signac.contrib.crawler import SignacProjectCrawler\n",
    "from signac.contrib.formats import TextFile\n",
    "\n",
    "# Specialize a SignacProject Crawler...\n",
    "class TutorialProjectCrawler(SignacProjectCrawler):\n",
    "    pass\n",
    "\n",
    "# Define files to index...\n",
    "TutorialProjectCrawler.define('.*/V\\.txt', TextFile)\n",
    "\n",
    "# Create a crawler instance and generate the index.\n",
    "crawler = TutorialProjectCrawler(root=project.workspace())\n",
    "index = list(crawler.crawl())\n",
    "for doc in index[:3]:\n",
    "    print(doc)"
   ]
  },
  {
   "cell_type": "markdown",
   "metadata": {},
   "source": [
    "We could specialize the `IdealGasCrawler` further, e.g., to add more metadata to the index.\n",
    "\n",
    "## Using a Master Crawler\n",
    "\n",
    "A master crawler uses other crawlers to compile a combined master index of one or more data spaces.\n",
    "This allows you and everyone else who has access to the master index, to search and possibly access all data within the shared data space.\n",
    "\n",
    "To expose the project to a `MasterCrawler` we need to create a so called *access module*.\n",
    "For signac projects this is simplified by using the `create_access_module()` method.\n",
    "Let's create an access module:"
   ]
  },
  {
   "cell_type": "code",
   "execution_count": 7,
   "metadata": {
    "collapsed": false
   },
   "outputs": [],
   "source": [
    "try:\n",
    "    project.create_access_module({'.*/V\\.txt': TextFile})\n",
    "except IOError:\n",
    "    pass  # File already exists..."
   ]
  },
  {
   "cell_type": "markdown",
   "metadata": {},
   "source": [
    "This function creates a file called `signac_access.py` within our project's root directory."
   ]
  },
  {
   "cell_type": "code",
   "execution_count": 8,
   "metadata": {
    "collapsed": false
   },
   "outputs": [
    {
     "name": "stdout",
     "output_type": "stream",
     "text": [
      "#!/usr/bin/env python\r\n",
      "# -*- coding: utf-8 -*-\r\n",
      "import os\r\n",
      "\r\n",
      "from signac.contrib.crawler import SignacProjectCrawler\r\n",
      "from signac.contrib.crawler import MasterCrawler\r\n",
      "from signac.contrib.formats import TextFile\r\n",
      "\r\n",
      "\r\n",
      "class TutorialProjectCrawler(SignacProjectCrawler):\r\n",
      "    pass\r\n",
      "TutorialProjectCrawler.define('.*/V\\.txt', TextFile)\r\n",
      "\r\n",
      "\r\n",
      "def get_crawlers(root):\r\n",
      "    return {'main': TutorialProjectCrawler(os.path.join(root, 'workspace'))}\r\n",
      "\r\n",
      "\r\n",
      "if __name__ == '__main__':\r\n",
      "    master_crawler = MasterCrawler('.')\r\n",
      "    for doc in master_crawler.crawl(depth=1):\r\n",
      "        print(doc)\r\n"
     ]
    }
   ],
   "source": [
    "% cat projects/tutorial/signac_access.py"
   ]
  },
  {
   "cell_type": "markdown",
   "metadata": {},
   "source": [
    "You will notice that this file looks very similar to our custom crawler definition earlier.\n",
    "It also shows us how to execute a Master Crawler for this data space.\n",
    "Let's do that:"
   ]
  },
  {
   "cell_type": "code",
   "execution_count": 9,
   "metadata": {
    "collapsed": false
   },
   "outputs": [
    {
     "name": "stdout",
     "output_type": "stream",
     "text": [
      "{'project': 'tutorial', 'format': None, 'V_liq': 32.8033857086239, 'signac_id': '732fb26b0b6fb83687625248b1f0a0b6', '_id': '732fb26b0b6fb83687625248b1f0a0b6', 'V_gas': 416.2699738123549, 'fluid': 'argon', 'signac_link': {'access_module': 'signac_access.py', 'access_crawler_id': 'main', 'link_type': 'module_fetch', 'access_crawler_root': '/home/johndoe/signac-examples/notebooks/projects/tutorial'}, 'statepoint': {'a': 1.355, 'kT': 1.0, 'p': 1.2000000000000002, 'b': 0.03201, 'N': 1000}}\n",
      "{'project': 'tutorial', 'format': None, 'V_liq': 30.65957481807377, 'signac_id': 'fdfd39a204f42e56bbe1b9c861674430', '_id': 'fdfd39a204f42e56bbe1b9c861674430', 'V_gas': 64.0177766935273, 'fluid': 'water', 'signac_link': {'access_module': 'signac_access.py', 'access_crawler_id': 'main', 'link_type': 'module_fetch', 'access_crawler_root': '/home/johndoe/signac-examples/notebooks/projects/tutorial'}, 'statepoint': {'a': 5.536, 'kT': 1.0, 'p': 7.800000000000001, 'b': 0.03049, 'N': 1000}}\n",
      "{'project': 'tutorial', 'format': None, 'V_liq': 30.659542839653493, 'signac_id': 'e578035d17bbb374a03d4af7c3f9ecaa', '_id': 'e578035d17bbb374a03d4af7c3f9ecaa', 'V_gas': 56.09500386107218, 'fluid': 'water', 'signac_link': {'access_module': 'signac_access.py', 'access_crawler_id': 'main', 'link_type': 'module_fetch', 'access_crawler_root': '/home/johndoe/signac-examples/notebooks/projects/tutorial'}, 'statepoint': {'a': 5.536, 'kT': 1.0, 'p': 8.9, 'b': 0.03049, 'N': 1000}}\n"
     ]
    }
   ],
   "source": [
    "from signac.contrib.crawler import MasterCrawler\n",
    "master_crawler = MasterCrawler('projects')\n",
    "master_index = list(master_crawler.crawl(depth=1))\n",
    "for doc in master_index[:3]:\n",
    "    print(doc)"
   ]
  },
  {
   "cell_type": "markdown",
   "metadata": {},
   "source": [
    "The index generated by the master crawler contains all the information about our project, even the files, without any additional information.\n",
    "This is possible, because the `MasterCrawler` searches the data space for files named `signac_access.py` and then collects all indexes generated by the `slave crawlers` defined within these modules.\n",
    "\n",
    "This allows us to easily generate a *master index* of multiple projects and even directly fetch data, using only the index, see the next section.\n",
    "\n",
    "## Fetch data via filename\n",
    "\n",
    "Just like before, we can access data via the filenames specified in the index documents:"
   ]
  },
  {
   "cell_type": "code",
   "execution_count": 10,
   "metadata": {
    "collapsed": false
   },
   "outputs": [
    {
     "name": "stdout",
     "output_type": "stream",
     "text": [
      "1.2000000000000002 32.8033857086239,416.2699738123549\n",
      "7.800000000000001 30.65957481807377,64.0177766935273\n",
      "8.9 30.659542839653493,56.09500386107218\n"
     ]
    }
   ],
   "source": [
    "import os\n",
    "\n",
    "docs_files = [doc for doc in master_index if doc['format'] is not None]\n",
    "for doc in docs_files[:3]:\n",
    "    fn = os.path.join(doc['root'], doc['filename'])\n",
    "    with open(fn) as file:\n",
    "        print(doc['statepoint']['p'], file.read().strip())"
   ]
  },
  {
   "cell_type": "markdown",
   "metadata": {},
   "source": [
    "## Fetch data via index\n",
    "\n",
    "But, even better, data files which were indexed with a `MasterCrawler` can be seamlessly fetched using the `fetch()` and the `fetch_one()` functions:"
   ]
  },
  {
   "cell_type": "code",
   "execution_count": 11,
   "metadata": {
    "collapsed": false
   },
   "outputs": [
    {
     "name": "stdout",
     "output_type": "stream",
     "text": [
      "1.2000000000000002 32.8033857086239,416.2699738123549\n",
      "7.800000000000001 30.65957481807377,64.0177766935273\n",
      "8.9 30.659542839653493,56.09500386107218\n"
     ]
    }
   ],
   "source": [
    "for doc in docs_files[:3]:\n",
    "    file = signac.fetch_one(doc)\n",
    "    print(doc['statepoint']['p'], file.read().strip())"
   ]
  },
  {
   "cell_type": "markdown",
   "metadata": {},
   "source": [
    "Using the `fetch()` and `fetch_one()` function allows us to access data in a way which is agnostic to the actual data source.\n",
    "\n",
    "The format of each file object is the one that we defined earlier, which is why it is important that it has a `read()` and `close()` method."
   ]
  },
  {
   "cell_type": "code",
   "execution_count": 12,
   "metadata": {
    "collapsed": false
   },
   "outputs": [
    {
     "name": "stdout",
     "output_type": "stream",
     "text": [
      "<class 'signac.contrib.formats.TextFile'>\n",
      "<class 'signac.contrib.formats.TextFile'>\n",
      "<class 'signac.contrib.formats.TextFile'>\n"
     ]
    }
   ],
   "source": [
    "for doc in docs_files[:3]:\n",
    "    file = signac.fetch_one(doc)\n",
    "    print(type(file))"
   ]
  }
 ],
 "metadata": {
  "language_info": {
   "codemirror_mode": {
    "name": "ipython",
    "version": 3
   },
   "file_extension": ".py",
   "mimetype": "text/x-python",
   "name": "python",
   "nbconvert_exporter": "python",
   "pygments_lexer": "ipython3",
   "version": "3.5.2"
  }
 },
 "nbformat": 4,
 "nbformat_minor": 1
}

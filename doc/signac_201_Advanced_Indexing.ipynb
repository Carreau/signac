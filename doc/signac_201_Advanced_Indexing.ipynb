{
 "cells": [
  {
   "cell_type": "markdown",
   "metadata": {},
   "source": [
    "# 2.1 Advanced Indexing\n",
    "\n",
    "## Indexing files\n",
    "\n",
    "As was shown earlier, we can create an index of the data space using the `index()` method:"
   ]
  },
  {
   "cell_type": "code",
   "execution_count": 1,
   "metadata": {
    "collapsed": false
   },
   "outputs": [
    {
     "name": "stdout",
     "output_type": "stream",
     "text": [
      "{'_id': '10743bc8b95bffab09503bce9abbe627', 'V_gas': 10000.0, 'statepoint': {'b': 0, 'kT': 1.0, 'p': 0.1, 'a': 0, 'N': 1000}, 'fluid': 'ideal gas', 'V_liq': 0.0, 'signac_id': '10743bc8b95bffab09503bce9abbe627'}\n",
      "{'_id': 'f906bdf73414abbbd2e8d2b672201fb3', 'V_liq': 0, 'signac_id': 'f906bdf73414abbbd2e8d2b672201fb3', 'V_gas': 1000.0, 'statepoint': {'b': 0, 'kT': 1.0, 'p': 1.0, 'a': 0, 'N': 1000}}\n",
      "{'_id': '304357838edbf2ec730f4847bb8a0e20', 'V_gas': 100.0, 'statepoint': {'b': 0, 'kT': 1.0, 'p': 10.0, 'a': 0, 'N': 1000}, 'fluid': 'ideal gas', 'V_liq': 0.0, 'signac_id': '304357838edbf2ec730f4847bb8a0e20'}\n"
     ]
    }
   ],
   "source": [
    "import signac\n",
    "\n",
    "project = signac.get_project(root='projects/tutorial')\n",
    "index = list(project.index())\n",
    "\n",
    "for doc in index[:3]:\n",
    "    print(doc)"
   ]
  },
  {
   "cell_type": "markdown",
   "metadata": {},
   "source": [
    "At this point the index contains information about the statepoint and all data stored in the job document.\n",
    "If we want to include the `V.txt` text files we used to store data in, with the index, we need to tell **signac** the filename pattern and optionally the file format.\n",
    "Any name defined as a `str` constant or even a python class may serve as a format definition.\n",
    "\n",
    "We will specify that in additon to the job documents, all files matching the regular expression `.*/V\\.txt` are to be indexed as `TextFile`."
   ]
  },
  {
   "cell_type": "code",
   "execution_count": 2,
   "metadata": {
    "collapsed": false
   },
   "outputs": [
    {
     "name": "stdout",
     "output_type": "stream",
     "text": [
      "{'_id': '11d61a67dcd734885038d6cdc71d279a', 'md5': 'd84a7bdf88719b706b1b2b86169dd14f', 'root': '/home/johndoe/signac-examples/notebooks/projects/tutorial/workspace', 'statepoint': {'b': 0.03201, 'kT': 1.0, 'a': 1.355, 'p': 7.800000000000001, 'N': 1000}, 'file_id': 'd84a7bdf88719b706b1b2b86169dd14f', 'signac_id': '3b4c55fd2100f14c914afd33bc3ef530', 'filename': '3b4c55fd2100f14c914afd33bc3ef530/V.txt', 'format': 'TextFile'}\n",
      "{'_id': 'be351f5e04f69a3b1725c4729042cb1f', 'md5': '58d1e9bfeb4c80cd0713d876f38143af', 'root': '/home/johndoe/signac-examples/notebooks/projects/tutorial/workspace', 'statepoint': {'b': 0.03201, 'kT': 1.0, 'a': 1.355, 'p': 8.9, 'N': 1000}, 'file_id': '58d1e9bfeb4c80cd0713d876f38143af', 'signac_id': 'bd5c16f1a57c1c664bada558045cd06e', 'filename': 'bd5c16f1a57c1c664bada558045cd06e/V.txt', 'format': 'TextFile'}\n",
      "{'_id': 'e02537599f8e86e5aaed45c7381ae345', 'md5': '1d80dad51981a1f55c105b4b5dd22a11', 'root': '/home/johndoe/signac-examples/notebooks/projects/tutorial/workspace', 'statepoint': {'b': 0.03201, 'kT': 1.0, 'a': 1.355, 'p': 10.0, 'N': 1000}, 'file_id': '1d80dad51981a1f55c105b4b5dd22a11', 'signac_id': '5f797e58ca9a6c6917ec1fbd2255f578', 'filename': '5f797e58ca9a6c6917ec1fbd2255f578/V.txt', 'format': 'TextFile'}\n"
     ]
    }
   ],
   "source": [
    "definitions = {'.*/V\\.txt': 'TextFile'}\n",
    "index = list(project.index(definitions))\n",
    "for doc in index[-3:]:\n",
    "    print(doc)"
   ]
  },
  {
   "cell_type": "markdown",
   "metadata": {},
   "source": [
    "**Tip**: Consider to to create a shared set of format definitions within your environment which serve as format conventions."
   ]
  },
  {
   "cell_type": "markdown",
   "metadata": {},
   "source": [
    "Accessing files via the index is useful, for example to select specific data sub sets."
   ]
  },
  {
   "cell_type": "code",
   "execution_count": 3,
   "metadata": {
    "collapsed": false
   },
   "outputs": [
    {
     "name": "stdout",
     "output_type": "stream",
     "text": [
      "p= 0.1 V= 0.0,10000.0\n",
      "p= 1.0 V= 0,1000.0\n",
      "p= 2.575 V= 0,388.34951456310677\n"
     ]
    }
   ],
   "source": [
    "import os\n",
    "\n",
    "def select(doc):\n",
    "    return 'TextFile' in doc.get('format', '') and doc['statepoint']['p'] < 5.0\n",
    "\n",
    "docs_selected = [doc for doc in index if select(doc)]\n",
    "for doc in docs_selected[:3]:\n",
    "    print('p=', doc['statepoint']['p'], end=' ')\n",
    "    fn = os.path.join(doc['root'], doc['filename'])\n",
    "    with open(fn) as file:\n",
    "        print('V=', file.read().strip())"
   ]
  },
  {
   "cell_type": "markdown",
   "metadata": {},
   "source": [
    "## Customized Project Crawlers\n",
    "\n",
    "The `index()` function as well as the `$ signac index` command internally creater a `Crawler` instance to crawl through the data space and create the index.\n",
    "To have more control over the indexing process, we can do this explicitly:"
   ]
  },
  {
   "cell_type": "code",
   "execution_count": 4,
   "metadata": {
    "collapsed": false
   },
   "outputs": [
    {
     "name": "stdout",
     "output_type": "stream",
     "text": [
      "{'_id': '10743bc8b95bffab09503bce9abbe627', 'V_gas': 10000, 'V_liq': 0, 'fluid': 'ideal gas', 'statepoint': {'b': 0, 'kT': 1.0, 'p': 0.1, 'a': 0, 'N': 1000}, 'signac_id': '10743bc8b95bffab09503bce9abbe627'}\n",
      "{'signac_id': 'f906bdf73414abbbd2e8d2b672201fb3', 'statepoint': {'b': 0, 'kT': 1.0, 'p': 1.0, 'a': 0, 'N': 1000}, '_id': 'f906bdf73414abbbd2e8d2b672201fb3', 'V_gas': 1000, 'V_liq': 0}\n",
      "{'_id': '304357838edbf2ec730f4847bb8a0e20', 'V_gas': 100, 'V_liq': 0, 'fluid': 'ideal gas', 'statepoint': {'b': 0, 'kT': 1.0, 'p': 10.0, 'a': 0, 'N': 1000}, 'signac_id': '304357838edbf2ec730f4847bb8a0e20'}\n"
     ]
    }
   ],
   "source": [
    "from signac.contrib import SignacProjectCrawler\n",
    "\n",
    "# Specialize a SignacProject Crawler...\n",
    "class TutorialProjectCrawler(SignacProjectCrawler):\n",
    "    pass\n",
    "\n",
    "# Define files to index...\n",
    "TutorialProjectCrawler.define('.*/V\\.txt', 'TextFile')\n",
    "\n",
    "# Create a crawler instance and generate the index.\n",
    "crawler = TutorialProjectCrawler(root=project.workspace())\n",
    "index = list(crawler.crawl())\n",
    "for doc in index[:3]:\n",
    "    print(doc)"
   ]
  },
  {
   "cell_type": "markdown",
   "metadata": {},
   "source": [
    "We could specialize the `IdealGasCrawler` further, e.g., to add more metadata to the index.\n",
    "\n",
    "## Using a Master Crawler\n",
    "\n",
    "A master crawler uses other crawlers to compile a combined master index of one or more data spaces.\n",
    "This allows you and everyone else who has access to the master index, to search and possibly access all data within the shared data space.\n",
    "\n",
    "To expose the project to a `MasterCrawler` we need to create a so called *access module*.\n",
    "For signac projects this is simplified by using the `create_access_module()` method.\n",
    "Let's create an access module:"
   ]
  },
  {
   "cell_type": "code",
   "execution_count": 5,
   "metadata": {
    "collapsed": false
   },
   "outputs": [],
   "source": [
    "try:\n",
    "    project.create_access_module({'.*/V\\.txt': 'TextFile'})\n",
    "except IOError:\n",
    "    pass  # File already exists..."
   ]
  },
  {
   "cell_type": "markdown",
   "metadata": {},
   "source": [
    "This function creates a file called `signac_access.py` within our project's root directory."
   ]
  },
  {
   "cell_type": "code",
   "execution_count": 6,
   "metadata": {
    "collapsed": false
   },
   "outputs": [
    {
     "name": "stdout",
     "output_type": "stream",
     "text": [
      "#!/usr/bin/env python\r\n",
      "# -*- coding: utf-8 -*-\r\n",
      "import os\r\n",
      "\r\n",
      "from signac.contrib import SignacProjectCrawler\r\n",
      "from signac.contrib import MasterCrawler\r\n",
      "\r\n",
      "\r\n",
      "class TutorialProjectCrawler(SignacProjectCrawler):\r\n",
      "    pass\r\n",
      "TutorialProjectCrawler.define('.*/V\\.txt', 'TextFile')\r\n",
      "\r\n",
      "\r\n",
      "def get_crawlers(root):\r\n",
      "    return {'main': TutorialProjectCrawler(os.path.join(root, 'workspace'))}\r\n",
      "\r\n",
      "\r\n",
      "if __name__ == '__main__':\r\n",
      "    master_crawler = MasterCrawler('.')\r\n",
      "    for doc in master_crawler.crawl(depth=1):\r\n",
      "        print(doc)\r\n"
     ]
    }
   ],
   "source": [
    "% cat projects/tutorial/signac_access.py"
   ]
  },
  {
   "cell_type": "markdown",
   "metadata": {},
   "source": [
    "You will notice that this file looks very similar to our custom crawler definition earlier.\n",
    "It also shows us how to execute a Master Crawler for this data space.\n",
    "Let's do that:"
   ]
  },
  {
   "cell_type": "code",
   "execution_count": 7,
   "metadata": {
    "collapsed": false
   },
   "outputs": [
    {
     "name": "stdout",
     "output_type": "stream",
     "text": [
      "{'_id': '10743bc8b95bffab09503bce9abbe627', 'format': None, 'V_gas': 10000, 'V_liq': 0, 'fluid': 'ideal gas', 'statepoint': {'b': 0, 'kT': 1.0, 'p': 0.1, 'a': 0, 'N': 1000}, 'signac_id': '10743bc8b95bffab09503bce9abbe627', 'project': 'tutorial'}\n",
      "{'_id': 'f906bdf73414abbbd2e8d2b672201fb3', 'format': None, 'V_gas': 1000, 'statepoint': {'b': 0, 'kT': 1.0, 'p': 1.0, 'a': 0, 'N': 1000}, 'V_liq': 0, 'signac_id': 'f906bdf73414abbbd2e8d2b672201fb3', 'project': 'tutorial'}\n",
      "{'_id': '304357838edbf2ec730f4847bb8a0e20', 'format': None, 'V_gas': 100, 'V_liq': 0, 'fluid': 'ideal gas', 'statepoint': {'b': 0, 'kT': 1.0, 'p': 10.0, 'a': 0, 'N': 1000}, 'signac_id': '304357838edbf2ec730f4847bb8a0e20', 'project': 'tutorial'}\n"
     ]
    }
   ],
   "source": [
    "from signac.contrib import MasterCrawler\n",
    "master_crawler = MasterCrawler('projects')\n",
    "master_index = list(master_crawler.crawl(depth=1))\n",
    "for doc in master_index[:3]:\n",
    "    print(doc)"
   ]
  },
  {
   "cell_type": "markdown",
   "metadata": {},
   "source": [
    "The index generated by the master crawler contains all the information about our project, even the files, without any additional information.\n",
    "This is possible, because the `MasterCrawler` searches the data space for files named `signac_access.py` and then collects all indexes generated by the `slave crawlers` defined within these modules.\n",
    "\n",
    "This allows us to easily generate a *master index* of multiple projects and even directly fetch data, using only the index, see the next section.\n",
    "\n",
    "## Fetch data via filename\n",
    "\n",
    "Just like before, we can access data via the filenames specified in the index documents:"
   ]
  },
  {
   "cell_type": "code",
   "execution_count": 8,
   "metadata": {
    "collapsed": false
   },
   "outputs": [
    {
     "name": "stdout",
     "output_type": "stream",
     "text": [
      "0.1 0.0,10000.0\n",
      "1.0 0,1000.0\n",
      "10.0 0.0,100.0\n"
     ]
    }
   ],
   "source": [
    "import os\n",
    "\n",
    "docs_files = [doc for doc in master_index if doc['format'] is not None]\n",
    "for doc in docs_files[:3]:\n",
    "    fn = os.path.join(doc['root'], doc['filename'])\n",
    "    with open(fn) as file:\n",
    "        print(doc['statepoint']['p'], file.read().strip())"
   ]
  },
  {
   "cell_type": "markdown",
   "metadata": {},
   "source": [
    "## Fetch data via index documents\n",
    "\n",
    "But even better, data files can be seamlessly fetched using the `signac.fetch()` function:"
   ]
  },
  {
   "cell_type": "code",
   "execution_count": 9,
   "metadata": {
    "collapsed": false
   },
   "outputs": [
    {
     "name": "stdout",
     "output_type": "stream",
     "text": [
      "0.1 0.0,10000.0\n",
      "1.0 0,1000.0\n",
      "10.0 0.0,100.0\n"
     ]
    }
   ],
   "source": [
    "for doc in docs_files[:3]:\n",
    "    with signac.fetch(doc) as file:\n",
    "        print(doc['statepoint']['p'], file.read().strip())"
   ]
  },
  {
   "cell_type": "markdown",
   "metadata": {},
   "source": [
    "Think of `fetch()` like the built-in `open()` function. It allows us to retrieve and open files based on the index document (file id) instead of an absolute file path. This makes it easier to operate on data agnostic to its actual physical location."
   ]
  }
 ],
 "metadata": {
  "language_info": {
   "codemirror_mode": {
    "name": "ipython",
    "version": 3
   },
   "file_extension": ".py",
   "mimetype": "text/x-python",
   "name": "python",
   "nbconvert_exporter": "python",
   "pygments_lexer": "ipython3",
   "version": "3.5.2"
  }
 },
 "nbformat": 4,
 "nbformat_minor": 1
}

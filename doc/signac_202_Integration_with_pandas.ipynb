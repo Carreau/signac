{
 "cells": [
  {
   "cell_type": "markdown",
   "metadata": {},
   "source": [
    "# 2.2 Integration with pandas data frames\n",
    "\n",
    "As was shown earlier, we can use indexes to search for specific data points.\n",
    "One way to operate on the data is using pandas data frames.\n",
    "\n",
    "*Please note: The following steps require the pandas package.*"
   ]
  },
  {
   "cell_type": "code",
   "execution_count": 1,
   "metadata": {
    "collapsed": false
   },
   "outputs": [],
   "source": [
    "import signac\n",
    "import pandas as pd\n",
    "\n",
    "project = signac.get_project(root='projects/tutorial')"
   ]
  },
  {
   "cell_type": "markdown",
   "metadata": {},
   "source": [
    "Let's first create a basic index and use it to construct an index data frame:"
   ]
  },
  {
   "cell_type": "code",
   "execution_count": 2,
   "metadata": {
    "collapsed": false
   },
   "outputs": [
    {
     "data": {
      "text/html": [
       "<div>\n",
       "<table border=\"1\" class=\"dataframe\">\n",
       "  <thead>\n",
       "    <tr style=\"text-align: right;\">\n",
       "      <th></th>\n",
       "      <th>V_gas</th>\n",
       "      <th>V_liq</th>\n",
       "      <th>_id</th>\n",
       "      <th>fluid</th>\n",
       "      <th>signac_id</th>\n",
       "      <th>statepoint</th>\n",
       "    </tr>\n",
       "  </thead>\n",
       "  <tbody>\n",
       "    <tr>\n",
       "      <th>0</th>\n",
       "      <td>10000.000000</td>\n",
       "      <td>0.0</td>\n",
       "      <td>10743bc8b95bffab09503bce9abbe627</td>\n",
       "      <td>ideal gas</td>\n",
       "      <td>10743bc8b95bffab09503bce9abbe627</td>\n",
       "      <td>{'kT': 1.0, 'b': 0, 'N': 1000, 'p': 0.1, 'a': 0}</td>\n",
       "    </tr>\n",
       "    <tr>\n",
       "      <th>1</th>\n",
       "      <td>1000.000000</td>\n",
       "      <td>0.0</td>\n",
       "      <td>f906bdf73414abbbd2e8d2b672201fb3</td>\n",
       "      <td>NaN</td>\n",
       "      <td>f906bdf73414abbbd2e8d2b672201fb3</td>\n",
       "      <td>{'kT': 1.0, 'b': 0, 'N': 1000, 'p': 1.0, 'a': 0}</td>\n",
       "    </tr>\n",
       "    <tr>\n",
       "      <th>2</th>\n",
       "      <td>100.000000</td>\n",
       "      <td>0.0</td>\n",
       "      <td>304357838edbf2ec730f4847bb8a0e20</td>\n",
       "      <td>ideal gas</td>\n",
       "      <td>304357838edbf2ec730f4847bb8a0e20</td>\n",
       "      <td>{'kT': 1.0, 'b': 0, 'N': 1000, 'p': 10.0, 'a': 0}</td>\n",
       "    </tr>\n",
       "    <tr>\n",
       "      <th>3</th>\n",
       "      <td>388.349515</td>\n",
       "      <td>0.0</td>\n",
       "      <td>7bb07256c1c140d9ce993832707f918d</td>\n",
       "      <td>NaN</td>\n",
       "      <td>7bb07256c1c140d9ce993832707f918d</td>\n",
       "      <td>{'kT': 1.0, 'b': 0, 'N': 1000, 'p': 2.575, 'a'...</td>\n",
       "    </tr>\n",
       "    <tr>\n",
       "      <th>4</th>\n",
       "      <td>198.019802</td>\n",
       "      <td>0.0</td>\n",
       "      <td>a1c3ef080c2c679e4308bef46428679a</td>\n",
       "      <td>NaN</td>\n",
       "      <td>a1c3ef080c2c679e4308bef46428679a</td>\n",
       "      <td>{'kT': 1.0, 'b': 0, 'N': 1000, 'p': 5.05, 'a': 0}</td>\n",
       "    </tr>\n",
       "  </tbody>\n",
       "</table>\n",
       "</div>"
      ],
      "text/plain": [
       "          V_gas  V_liq                               _id      fluid  \\\n",
       "0  10000.000000    0.0  10743bc8b95bffab09503bce9abbe627  ideal gas   \n",
       "1   1000.000000    0.0  f906bdf73414abbbd2e8d2b672201fb3        NaN   \n",
       "2    100.000000    0.0  304357838edbf2ec730f4847bb8a0e20  ideal gas   \n",
       "3    388.349515    0.0  7bb07256c1c140d9ce993832707f918d        NaN   \n",
       "4    198.019802    0.0  a1c3ef080c2c679e4308bef46428679a        NaN   \n",
       "\n",
       "                          signac_id  \\\n",
       "0  10743bc8b95bffab09503bce9abbe627   \n",
       "1  f906bdf73414abbbd2e8d2b672201fb3   \n",
       "2  304357838edbf2ec730f4847bb8a0e20   \n",
       "3  7bb07256c1c140d9ce993832707f918d   \n",
       "4  a1c3ef080c2c679e4308bef46428679a   \n",
       "\n",
       "                                          statepoint  \n",
       "0   {'kT': 1.0, 'b': 0, 'N': 1000, 'p': 0.1, 'a': 0}  \n",
       "1   {'kT': 1.0, 'b': 0, 'N': 1000, 'p': 1.0, 'a': 0}  \n",
       "2  {'kT': 1.0, 'b': 0, 'N': 1000, 'p': 10.0, 'a': 0}  \n",
       "3  {'kT': 1.0, 'b': 0, 'N': 1000, 'p': 2.575, 'a'...  \n",
       "4  {'kT': 1.0, 'b': 0, 'N': 1000, 'p': 5.05, 'a': 0}  "
      ]
     },
     "execution_count": 2,
     "metadata": {},
     "output_type": "execute_result"
    }
   ],
   "source": [
    "df_index = pd.DataFrame(project.index())\n",
    "df_index.head()"
   ]
  },
  {
   "cell_type": "markdown",
   "metadata": {},
   "source": [
    "It is a good idea, to explicitly use the `_id` value as index key:"
   ]
  },
  {
   "cell_type": "code",
   "execution_count": 3,
   "metadata": {
    "collapsed": false
   },
   "outputs": [
    {
     "data": {
      "text/html": [
       "<div>\n",
       "<table border=\"1\" class=\"dataframe\">\n",
       "  <thead>\n",
       "    <tr style=\"text-align: right;\">\n",
       "      <th></th>\n",
       "      <th>V_gas</th>\n",
       "      <th>V_liq</th>\n",
       "      <th>fluid</th>\n",
       "      <th>signac_id</th>\n",
       "      <th>statepoint</th>\n",
       "    </tr>\n",
       "    <tr>\n",
       "      <th>_id</th>\n",
       "      <th></th>\n",
       "      <th></th>\n",
       "      <th></th>\n",
       "      <th></th>\n",
       "      <th></th>\n",
       "    </tr>\n",
       "  </thead>\n",
       "  <tbody>\n",
       "    <tr>\n",
       "      <th>10743bc8b95bffab09503bce9abbe627</th>\n",
       "      <td>10000.000000</td>\n",
       "      <td>0.0</td>\n",
       "      <td>ideal gas</td>\n",
       "      <td>10743bc8b95bffab09503bce9abbe627</td>\n",
       "      <td>{'kT': 1.0, 'b': 0, 'N': 1000, 'p': 0.1, 'a': 0}</td>\n",
       "    </tr>\n",
       "    <tr>\n",
       "      <th>f906bdf73414abbbd2e8d2b672201fb3</th>\n",
       "      <td>1000.000000</td>\n",
       "      <td>0.0</td>\n",
       "      <td>NaN</td>\n",
       "      <td>f906bdf73414abbbd2e8d2b672201fb3</td>\n",
       "      <td>{'kT': 1.0, 'b': 0, 'N': 1000, 'p': 1.0, 'a': 0}</td>\n",
       "    </tr>\n",
       "    <tr>\n",
       "      <th>304357838edbf2ec730f4847bb8a0e20</th>\n",
       "      <td>100.000000</td>\n",
       "      <td>0.0</td>\n",
       "      <td>ideal gas</td>\n",
       "      <td>304357838edbf2ec730f4847bb8a0e20</td>\n",
       "      <td>{'kT': 1.0, 'b': 0, 'N': 1000, 'p': 10.0, 'a': 0}</td>\n",
       "    </tr>\n",
       "    <tr>\n",
       "      <th>7bb07256c1c140d9ce993832707f918d</th>\n",
       "      <td>388.349515</td>\n",
       "      <td>0.0</td>\n",
       "      <td>NaN</td>\n",
       "      <td>7bb07256c1c140d9ce993832707f918d</td>\n",
       "      <td>{'kT': 1.0, 'b': 0, 'N': 1000, 'p': 2.575, 'a'...</td>\n",
       "    </tr>\n",
       "    <tr>\n",
       "      <th>a1c3ef080c2c679e4308bef46428679a</th>\n",
       "      <td>198.019802</td>\n",
       "      <td>0.0</td>\n",
       "      <td>NaN</td>\n",
       "      <td>a1c3ef080c2c679e4308bef46428679a</td>\n",
       "      <td>{'kT': 1.0, 'b': 0, 'N': 1000, 'p': 5.05, 'a': 0}</td>\n",
       "    </tr>\n",
       "  </tbody>\n",
       "</table>\n",
       "</div>"
      ],
      "text/plain": [
       "                                         V_gas  V_liq      fluid  \\\n",
       "_id                                                                \n",
       "10743bc8b95bffab09503bce9abbe627  10000.000000    0.0  ideal gas   \n",
       "f906bdf73414abbbd2e8d2b672201fb3   1000.000000    0.0        NaN   \n",
       "304357838edbf2ec730f4847bb8a0e20    100.000000    0.0  ideal gas   \n",
       "7bb07256c1c140d9ce993832707f918d    388.349515    0.0        NaN   \n",
       "a1c3ef080c2c679e4308bef46428679a    198.019802    0.0        NaN   \n",
       "\n",
       "                                                         signac_id  \\\n",
       "_id                                                                  \n",
       "10743bc8b95bffab09503bce9abbe627  10743bc8b95bffab09503bce9abbe627   \n",
       "f906bdf73414abbbd2e8d2b672201fb3  f906bdf73414abbbd2e8d2b672201fb3   \n",
       "304357838edbf2ec730f4847bb8a0e20  304357838edbf2ec730f4847bb8a0e20   \n",
       "7bb07256c1c140d9ce993832707f918d  7bb07256c1c140d9ce993832707f918d   \n",
       "a1c3ef080c2c679e4308bef46428679a  a1c3ef080c2c679e4308bef46428679a   \n",
       "\n",
       "                                                                         statepoint  \n",
       "_id                                                                                  \n",
       "10743bc8b95bffab09503bce9abbe627   {'kT': 1.0, 'b': 0, 'N': 1000, 'p': 0.1, 'a': 0}  \n",
       "f906bdf73414abbbd2e8d2b672201fb3   {'kT': 1.0, 'b': 0, 'N': 1000, 'p': 1.0, 'a': 0}  \n",
       "304357838edbf2ec730f4847bb8a0e20  {'kT': 1.0, 'b': 0, 'N': 1000, 'p': 10.0, 'a': 0}  \n",
       "7bb07256c1c140d9ce993832707f918d  {'kT': 1.0, 'b': 0, 'N': 1000, 'p': 2.575, 'a'...  \n",
       "a1c3ef080c2c679e4308bef46428679a  {'kT': 1.0, 'b': 0, 'N': 1000, 'p': 5.05, 'a': 0}  "
      ]
     },
     "execution_count": 3,
     "metadata": {},
     "output_type": "execute_result"
    }
   ],
   "source": [
    "df_index = df_index.set_index(['_id'])\n",
    "df_index.head()"
   ]
  },
  {
   "cell_type": "markdown",
   "metadata": {},
   "source": [
    "Furthermore, the index would be more useful if each statepoint parameter had its own column."
   ]
  },
  {
   "cell_type": "code",
   "execution_count": 4,
   "metadata": {
    "collapsed": false
   },
   "outputs": [
    {
     "data": {
      "text/html": [
       "<div>\n",
       "<table border=\"1\" class=\"dataframe\">\n",
       "  <thead>\n",
       "    <tr style=\"text-align: right;\">\n",
       "      <th></th>\n",
       "      <th>N</th>\n",
       "      <th>a</th>\n",
       "      <th>b</th>\n",
       "      <th>kT</th>\n",
       "      <th>p</th>\n",
       "      <th>V_gas</th>\n",
       "      <th>V_liq</th>\n",
       "      <th>fluid</th>\n",
       "      <th>signac_id</th>\n",
       "      <th>statepoint</th>\n",
       "    </tr>\n",
       "  </thead>\n",
       "  <tbody>\n",
       "    <tr>\n",
       "      <th>0e909ffdba496bbb590fbce31f3a4563</th>\n",
       "      <td>1000.0</td>\n",
       "      <td>0.000</td>\n",
       "      <td>0.00000</td>\n",
       "      <td>1.0</td>\n",
       "      <td>3.400</td>\n",
       "      <td>294.117647</td>\n",
       "      <td>0.000000</td>\n",
       "      <td>ideal gas</td>\n",
       "      <td>0e909ffdba496bbb590fbce31f3a4563</td>\n",
       "      <td>{'kT': 1.0, 'b': 0, 'N': 1000, 'p': 3.40000000...</td>\n",
       "    </tr>\n",
       "    <tr>\n",
       "      <th>10743bc8b95bffab09503bce9abbe627</th>\n",
       "      <td>1000.0</td>\n",
       "      <td>0.000</td>\n",
       "      <td>0.00000</td>\n",
       "      <td>1.0</td>\n",
       "      <td>0.100</td>\n",
       "      <td>10000.000000</td>\n",
       "      <td>0.000000</td>\n",
       "      <td>ideal gas</td>\n",
       "      <td>10743bc8b95bffab09503bce9abbe627</td>\n",
       "      <td>{'kT': 1.0, 'b': 0, 'N': 1000, 'p': 0.1, 'a': 0}</td>\n",
       "    </tr>\n",
       "    <tr>\n",
       "      <th>11d8997f19b8ba53d2360ee9fb1606fa</th>\n",
       "      <td>1000.0</td>\n",
       "      <td>5.536</td>\n",
       "      <td>0.03049</td>\n",
       "      <td>1.0</td>\n",
       "      <td>1.200</td>\n",
       "      <td>416.581783</td>\n",
       "      <td>30.659767</td>\n",
       "      <td>water</td>\n",
       "      <td>11d8997f19b8ba53d2360ee9fb1606fa</td>\n",
       "      <td>{'kT': 1.0, 'b': 0.03049, 'a': 5.536, 'p': 1.2...</td>\n",
       "    </tr>\n",
       "    <tr>\n",
       "      <th>195c26531df979e70d8f50267f67f0e5</th>\n",
       "      <td>1000.0</td>\n",
       "      <td>0.000</td>\n",
       "      <td>0.00000</td>\n",
       "      <td>1.0</td>\n",
       "      <td>7.525</td>\n",
       "      <td>132.890365</td>\n",
       "      <td>0.000000</td>\n",
       "      <td>NaN</td>\n",
       "      <td>195c26531df979e70d8f50267f67f0e5</td>\n",
       "      <td>{'kT': 1.0, 'b': 0, 'N': 1000, 'p': 7.525, 'a'...</td>\n",
       "    </tr>\n",
       "    <tr>\n",
       "      <th>1f147aff97cbbda8aa7c4457a9b51159</th>\n",
       "      <td>1000.0</td>\n",
       "      <td>1.355</td>\n",
       "      <td>0.03201</td>\n",
       "      <td>1.0</td>\n",
       "      <td>4.500</td>\n",
       "      <td>110.715506</td>\n",
       "      <td>32.801209</td>\n",
       "      <td>argon</td>\n",
       "      <td>1f147aff97cbbda8aa7c4457a9b51159</td>\n",
       "      <td>{'kT': 1.0, 'b': 0.03201, 'a': 1.355, 'p': 4.5...</td>\n",
       "    </tr>\n",
       "  </tbody>\n",
       "</table>\n",
       "</div>"
      ],
      "text/plain": [
       "                                       N      a        b   kT      p  \\\n",
       "0e909ffdba496bbb590fbce31f3a4563  1000.0  0.000  0.00000  1.0  3.400   \n",
       "10743bc8b95bffab09503bce9abbe627  1000.0  0.000  0.00000  1.0  0.100   \n",
       "11d8997f19b8ba53d2360ee9fb1606fa  1000.0  5.536  0.03049  1.0  1.200   \n",
       "195c26531df979e70d8f50267f67f0e5  1000.0  0.000  0.00000  1.0  7.525   \n",
       "1f147aff97cbbda8aa7c4457a9b51159  1000.0  1.355  0.03201  1.0  4.500   \n",
       "\n",
       "                                         V_gas      V_liq      fluid  \\\n",
       "0e909ffdba496bbb590fbce31f3a4563    294.117647   0.000000  ideal gas   \n",
       "10743bc8b95bffab09503bce9abbe627  10000.000000   0.000000  ideal gas   \n",
       "11d8997f19b8ba53d2360ee9fb1606fa    416.581783  30.659767      water   \n",
       "195c26531df979e70d8f50267f67f0e5    132.890365   0.000000        NaN   \n",
       "1f147aff97cbbda8aa7c4457a9b51159    110.715506  32.801209      argon   \n",
       "\n",
       "                                                         signac_id  \\\n",
       "0e909ffdba496bbb590fbce31f3a4563  0e909ffdba496bbb590fbce31f3a4563   \n",
       "10743bc8b95bffab09503bce9abbe627  10743bc8b95bffab09503bce9abbe627   \n",
       "11d8997f19b8ba53d2360ee9fb1606fa  11d8997f19b8ba53d2360ee9fb1606fa   \n",
       "195c26531df979e70d8f50267f67f0e5  195c26531df979e70d8f50267f67f0e5   \n",
       "1f147aff97cbbda8aa7c4457a9b51159  1f147aff97cbbda8aa7c4457a9b51159   \n",
       "\n",
       "                                                                         statepoint  \n",
       "0e909ffdba496bbb590fbce31f3a4563  {'kT': 1.0, 'b': 0, 'N': 1000, 'p': 3.40000000...  \n",
       "10743bc8b95bffab09503bce9abbe627   {'kT': 1.0, 'b': 0, 'N': 1000, 'p': 0.1, 'a': 0}  \n",
       "11d8997f19b8ba53d2360ee9fb1606fa  {'kT': 1.0, 'b': 0.03049, 'a': 5.536, 'p': 1.2...  \n",
       "195c26531df979e70d8f50267f67f0e5  {'kT': 1.0, 'b': 0, 'N': 1000, 'p': 7.525, 'a'...  \n",
       "1f147aff97cbbda8aa7c4457a9b51159  {'kT': 1.0, 'b': 0.03201, 'a': 1.355, 'p': 4.5...  "
      ]
     },
     "execution_count": 4,
     "metadata": {},
     "output_type": "execute_result"
    }
   ],
   "source": [
    "statepoints = {doc['_id']: doc['statepoint'] for doc in project.index()}\n",
    "df = pd.DataFrame(statepoints).T.join(df_index)\n",
    "df.head()"
   ]
  },
  {
   "cell_type": "markdown",
   "metadata": {},
   "source": [
    "Now we can select specific data subsets, for example to calculate the mean gas volume of argon for a pressure *p* between 2.0 and 5.0:"
   ]
  },
  {
   "cell_type": "code",
   "execution_count": 5,
   "metadata": {
    "collapsed": false
   },
   "outputs": [
    {
     "data": {
      "text/plain": [
       "158.12444608049674"
      ]
     },
     "execution_count": 5,
     "metadata": {},
     "output_type": "execute_result"
    }
   ],
   "source": [
    "df[(df.fluid=='argon') & (df.p > 2.0) & (df.p <= 5.0)].V_gas.mean()"
   ]
  },
  {
   "cell_type": "markdown",
   "metadata": {},
   "source": [
    "Or we can plot a p-V phase diagram for argon (*requires matplotlib*)."
   ]
  },
  {
   "cell_type": "code",
   "execution_count": 6,
   "metadata": {
    "collapsed": false
   },
   "outputs": [
    {
     "data": {
      "text/plain": [
       "<matplotlib.axes._subplots.AxesSubplot at 0x7f76a984a4e0>"
      ]
     },
     "execution_count": 6,
     "metadata": {},
     "output_type": "execute_result"
    },
    {
     "data": {
      "image/png": "[encoded data removed]",
      "text/plain": [
       "<matplotlib.figure.Figure at 0x7f76a983c9b0>"
      ]
     },
     "metadata": {},
     "output_type": "display_data"
    }
   ],
   "source": [
    "% matplotlib inline\n",
    "\n",
    "df_water = df[df.fluid=='argon'][['p', 'V_liq', 'V_gas']]\n",
    "df_water.sort_values('p').set_index('p').plot(logy=True)"
   ]
  },
  {
   "cell_type": "markdown",
   "metadata": {},
   "source": [
    "Or we group the data by fluid and compare the gas densities for low pressures:"
   ]
  },
  {
   "cell_type": "code",
   "execution_count": 7,
   "metadata": {
    "collapsed": false
   },
   "outputs": [
    {
     "data": {
      "text/plain": [
       "<matplotlib.legend.Legend at 0x7f76a7431128>"
      ]
     },
     "execution_count": 7,
     "metadata": {},
     "output_type": "execute_result"
    },
    {
     "data": {
      "image/png": "[encoded data removed]",
      "text/plain": [
       "<matplotlib.figure.Figure at 0x7f76a7441550>"
      ]
     },
     "metadata": {},
     "output_type": "display_data"
    }
   ],
   "source": [
    "from matplotlib import pyplot as plt\n",
    "\n",
    "for fluid, group in df[df.p < 2].groupby('fluid'):\n",
    "    d = group.sort_values('p')\n",
    "    plt.plot(d['p'], d['V_gas'] / d['N'], label=fluid)\n",
    "plt.xlabel('p')\n",
    "plt.ylabel(r'$\\rho_{gas}$')\n",
    "plt.legend(loc=0)"
   ]
  }
 ],
 "metadata": {
  "language_info": {
   "codemirror_mode": {
    "name": "ipython",
    "version": 3
   },
   "file_extension": ".py",
   "mimetype": "text/x-python",
   "name": "python",
   "nbconvert_exporter": "python",
   "pygments_lexer": "ipython3",
   "version": "3.5.2"
  }
 },
 "nbformat": 4,
 "nbformat_minor": 1
}

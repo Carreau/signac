{
 "cells": [
  {
   "cell_type": "markdown",
   "metadata": {},
   "source": [
    "# 2.2 Integration with pandas data frames\n",
    "\n",
    "As was shown earlier, we can use indexes to search for specific data points.\n",
    "One way to operate on the data is using pandas data frames.\n",
    "\n",
    "*Please note: The following steps require the pandas package.*"
   ]
  },
  {
   "cell_type": "code",
   "execution_count": 1,
   "metadata": {
    "collapsed": false
   },
   "outputs": [],
   "source": [
    "import signac\n",
    "import pandas as pd\n",
    "\n",
    "project = signac.get_project(root='projects/tutorial')"
   ]
  },
  {
   "cell_type": "markdown",
   "metadata": {},
   "source": [
    "Let's first create a basic index and use it to construct an index data frame:"
   ]
  },
  {
   "cell_type": "code",
   "execution_count": 2,
   "metadata": {
    "collapsed": false
   },
   "outputs": [
    {
     "data": {
      "text/html": [
       "<div>\n",
       "<table border=\"1\" class=\"dataframe\">\n",
       "  <thead>\n",
       "    <tr style=\"text-align: right;\">\n",
       "      <th></th>\n",
       "      <th>V_gas</th>\n",
       "      <th>V_liq</th>\n",
       "      <th>_id</th>\n",
       "      <th>fluid</th>\n",
       "      <th>signac_id</th>\n",
       "      <th>statepoint</th>\n",
       "    </tr>\n",
       "  </thead>\n",
       "  <tbody>\n",
       "    <tr>\n",
       "      <th>0</th>\n",
       "      <td>416.269974</td>\n",
       "      <td>32.803386</td>\n",
       "      <td>732fb26b0b6fb83687625248b1f0a0b6</td>\n",
       "      <td>argon</td>\n",
       "      <td>732fb26b0b6fb83687625248b1f0a0b6</td>\n",
       "      <td>{'b': 0.03201, 'kT': 1.0, 'a': 1.355, 'p': 1.2...</td>\n",
       "    </tr>\n",
       "    <tr>\n",
       "      <th>1</th>\n",
       "      <td>64.017777</td>\n",
       "      <td>30.659575</td>\n",
       "      <td>fdfd39a204f42e56bbe1b9c861674430</td>\n",
       "      <td>water</td>\n",
       "      <td>fdfd39a204f42e56bbe1b9c861674430</td>\n",
       "      <td>{'b': 0.03049, 'kT': 1.0, 'a': 5.536, 'p': 7.8...</td>\n",
       "    </tr>\n",
       "    <tr>\n",
       "      <th>2</th>\n",
       "      <td>56.095004</td>\n",
       "      <td>30.659543</td>\n",
       "      <td>e578035d17bbb374a03d4af7c3f9ecaa</td>\n",
       "      <td>water</td>\n",
       "      <td>e578035d17bbb374a03d4af7c3f9ecaa</td>\n",
       "      <td>{'b': 0.03049, 'kT': 1.0, 'a': 5.536, 'p': 8.9...</td>\n",
       "    </tr>\n",
       "    <tr>\n",
       "      <th>3</th>\n",
       "      <td>89.200895</td>\n",
       "      <td>30.659639</td>\n",
       "      <td>4ab285cfbe721ca068b2b50a5facc0e1</td>\n",
       "      <td>water</td>\n",
       "      <td>4ab285cfbe721ca068b2b50a5facc0e1</td>\n",
       "      <td>{'b': 0.03049, 'kT': 1.0, 'a': 5.536, 'p': 5.6...</td>\n",
       "    </tr>\n",
       "    <tr>\n",
       "      <th>4</th>\n",
       "      <td>146.662857</td>\n",
       "      <td>32.801933</td>\n",
       "      <td>86c86b7faa93d1cf66db720182170da1</td>\n",
       "      <td>argon</td>\n",
       "      <td>86c86b7faa93d1cf66db720182170da1</td>\n",
       "      <td>{'b': 0.03201, 'kT': 1.0, 'a': 1.355, 'p': 3.4...</td>\n",
       "    </tr>\n",
       "  </tbody>\n",
       "</table>\n",
       "</div>"
      ],
      "text/plain": [
       "        V_gas      V_liq                               _id  fluid  \\\n",
       "0  416.269974  32.803386  732fb26b0b6fb83687625248b1f0a0b6  argon   \n",
       "1   64.017777  30.659575  fdfd39a204f42e56bbe1b9c861674430  water   \n",
       "2   56.095004  30.659543  e578035d17bbb374a03d4af7c3f9ecaa  water   \n",
       "3   89.200895  30.659639  4ab285cfbe721ca068b2b50a5facc0e1  water   \n",
       "4  146.662857  32.801933  86c86b7faa93d1cf66db720182170da1  argon   \n",
       "\n",
       "                          signac_id  \\\n",
       "0  732fb26b0b6fb83687625248b1f0a0b6   \n",
       "1  fdfd39a204f42e56bbe1b9c861674430   \n",
       "2  e578035d17bbb374a03d4af7c3f9ecaa   \n",
       "3  4ab285cfbe721ca068b2b50a5facc0e1   \n",
       "4  86c86b7faa93d1cf66db720182170da1   \n",
       "\n",
       "                                          statepoint  \n",
       "0  {'b': 0.03201, 'kT': 1.0, 'a': 1.355, 'p': 1.2...  \n",
       "1  {'b': 0.03049, 'kT': 1.0, 'a': 5.536, 'p': 7.8...  \n",
       "2  {'b': 0.03049, 'kT': 1.0, 'a': 5.536, 'p': 8.9...  \n",
       "3  {'b': 0.03049, 'kT': 1.0, 'a': 5.536, 'p': 5.6...  \n",
       "4  {'b': 0.03201, 'kT': 1.0, 'a': 1.355, 'p': 3.4...  "
      ]
     },
     "execution_count": 2,
     "metadata": {},
     "output_type": "execute_result"
    }
   ],
   "source": [
    "df_index = pd.DataFrame(project.index())\n",
    "df_index.head()"
   ]
  },
  {
   "cell_type": "markdown",
   "metadata": {},
   "source": [
    "It is a good idea, to explicitly use the `_id` value as index key:"
   ]
  },
  {
   "cell_type": "code",
   "execution_count": 3,
   "metadata": {
    "collapsed": false
   },
   "outputs": [
    {
     "data": {
      "text/html": [
       "<div>\n",
       "<table border=\"1\" class=\"dataframe\">\n",
       "  <thead>\n",
       "    <tr style=\"text-align: right;\">\n",
       "      <th></th>\n",
       "      <th>V_gas</th>\n",
       "      <th>V_liq</th>\n",
       "      <th>fluid</th>\n",
       "      <th>signac_id</th>\n",
       "      <th>statepoint</th>\n",
       "    </tr>\n",
       "    <tr>\n",
       "      <th>_id</th>\n",
       "      <th></th>\n",
       "      <th></th>\n",
       "      <th></th>\n",
       "      <th></th>\n",
       "      <th></th>\n",
       "    </tr>\n",
       "  </thead>\n",
       "  <tbody>\n",
       "    <tr>\n",
       "      <th>732fb26b0b6fb83687625248b1f0a0b6</th>\n",
       "      <td>416.269974</td>\n",
       "      <td>32.803386</td>\n",
       "      <td>argon</td>\n",
       "      <td>732fb26b0b6fb83687625248b1f0a0b6</td>\n",
       "      <td>{'b': 0.03201, 'kT': 1.0, 'a': 1.355, 'p': 1.2...</td>\n",
       "    </tr>\n",
       "    <tr>\n",
       "      <th>fdfd39a204f42e56bbe1b9c861674430</th>\n",
       "      <td>64.017777</td>\n",
       "      <td>30.659575</td>\n",
       "      <td>water</td>\n",
       "      <td>fdfd39a204f42e56bbe1b9c861674430</td>\n",
       "      <td>{'b': 0.03049, 'kT': 1.0, 'a': 5.536, 'p': 7.8...</td>\n",
       "    </tr>\n",
       "    <tr>\n",
       "      <th>e578035d17bbb374a03d4af7c3f9ecaa</th>\n",
       "      <td>56.095004</td>\n",
       "      <td>30.659543</td>\n",
       "      <td>water</td>\n",
       "      <td>e578035d17bbb374a03d4af7c3f9ecaa</td>\n",
       "      <td>{'b': 0.03049, 'kT': 1.0, 'a': 5.536, 'p': 8.9...</td>\n",
       "    </tr>\n",
       "    <tr>\n",
       "      <th>4ab285cfbe721ca068b2b50a5facc0e1</th>\n",
       "      <td>89.200895</td>\n",
       "      <td>30.659639</td>\n",
       "      <td>water</td>\n",
       "      <td>4ab285cfbe721ca068b2b50a5facc0e1</td>\n",
       "      <td>{'b': 0.03049, 'kT': 1.0, 'a': 5.536, 'p': 5.6...</td>\n",
       "    </tr>\n",
       "    <tr>\n",
       "      <th>86c86b7faa93d1cf66db720182170da1</th>\n",
       "      <td>146.662857</td>\n",
       "      <td>32.801933</td>\n",
       "      <td>argon</td>\n",
       "      <td>86c86b7faa93d1cf66db720182170da1</td>\n",
       "      <td>{'b': 0.03201, 'kT': 1.0, 'a': 1.355, 'p': 3.4...</td>\n",
       "    </tr>\n",
       "  </tbody>\n",
       "</table>\n",
       "</div>"
      ],
      "text/plain": [
       "                                       V_gas      V_liq  fluid  \\\n",
       "_id                                                              \n",
       "732fb26b0b6fb83687625248b1f0a0b6  416.269974  32.803386  argon   \n",
       "fdfd39a204f42e56bbe1b9c861674430   64.017777  30.659575  water   \n",
       "e578035d17bbb374a03d4af7c3f9ecaa   56.095004  30.659543  water   \n",
       "4ab285cfbe721ca068b2b50a5facc0e1   89.200895  30.659639  water   \n",
       "86c86b7faa93d1cf66db720182170da1  146.662857  32.801933  argon   \n",
       "\n",
       "                                                         signac_id  \\\n",
       "_id                                                                  \n",
       "732fb26b0b6fb83687625248b1f0a0b6  732fb26b0b6fb83687625248b1f0a0b6   \n",
       "fdfd39a204f42e56bbe1b9c861674430  fdfd39a204f42e56bbe1b9c861674430   \n",
       "e578035d17bbb374a03d4af7c3f9ecaa  e578035d17bbb374a03d4af7c3f9ecaa   \n",
       "4ab285cfbe721ca068b2b50a5facc0e1  4ab285cfbe721ca068b2b50a5facc0e1   \n",
       "86c86b7faa93d1cf66db720182170da1  86c86b7faa93d1cf66db720182170da1   \n",
       "\n",
       "                                                                         statepoint  \n",
       "_id                                                                                  \n",
       "732fb26b0b6fb83687625248b1f0a0b6  {'b': 0.03201, 'kT': 1.0, 'a': 1.355, 'p': 1.2...  \n",
       "fdfd39a204f42e56bbe1b9c861674430  {'b': 0.03049, 'kT': 1.0, 'a': 5.536, 'p': 7.8...  \n",
       "e578035d17bbb374a03d4af7c3f9ecaa  {'b': 0.03049, 'kT': 1.0, 'a': 5.536, 'p': 8.9...  \n",
       "4ab285cfbe721ca068b2b50a5facc0e1  {'b': 0.03049, 'kT': 1.0, 'a': 5.536, 'p': 5.6...  \n",
       "86c86b7faa93d1cf66db720182170da1  {'b': 0.03201, 'kT': 1.0, 'a': 1.355, 'p': 3.4...  "
      ]
     },
     "execution_count": 3,
     "metadata": {},
     "output_type": "execute_result"
    }
   ],
   "source": [
    "df_index = df_index.set_index(['_id'])\n",
    "df_index.head()"
   ]
  },
  {
   "cell_type": "markdown",
   "metadata": {},
   "source": [
    "Furthermore, the index would be more useful if each statepoint parameter had its own column."
   ]
  },
  {
   "cell_type": "code",
   "execution_count": 4,
   "metadata": {
    "collapsed": false
   },
   "outputs": [
    {
     "data": {
      "text/html": [
       "<div>\n",
       "<table border=\"1\" class=\"dataframe\">\n",
       "  <thead>\n",
       "    <tr style=\"text-align: right;\">\n",
       "      <th></th>\n",
       "      <th>N</th>\n",
       "      <th>a</th>\n",
       "      <th>b</th>\n",
       "      <th>kT</th>\n",
       "      <th>p</th>\n",
       "      <th>V_gas</th>\n",
       "      <th>V_liq</th>\n",
       "      <th>fluid</th>\n",
       "      <th>signac_id</th>\n",
       "      <th>statepoint</th>\n",
       "    </tr>\n",
       "  </thead>\n",
       "  <tbody>\n",
       "    <tr>\n",
       "      <th>0e909ffdba496bbb590fbce31f3a4563</th>\n",
       "      <td>1000.0</td>\n",
       "      <td>0.000</td>\n",
       "      <td>0.00000</td>\n",
       "      <td>1.0</td>\n",
       "      <td>3.400</td>\n",
       "      <td>294.117647</td>\n",
       "      <td>0.000000</td>\n",
       "      <td>ideal gas</td>\n",
       "      <td>0e909ffdba496bbb590fbce31f3a4563</td>\n",
       "      <td>{'b': 0, 'kT': 1.0, 'a': 0, 'p': 3.40000000000...</td>\n",
       "    </tr>\n",
       "    <tr>\n",
       "      <th>10743bc8b95bffab09503bce9abbe627</th>\n",
       "      <td>1000.0</td>\n",
       "      <td>0.000</td>\n",
       "      <td>0.00000</td>\n",
       "      <td>1.0</td>\n",
       "      <td>0.100</td>\n",
       "      <td>10000.000000</td>\n",
       "      <td>0.000000</td>\n",
       "      <td>ideal gas</td>\n",
       "      <td>10743bc8b95bffab09503bce9abbe627</td>\n",
       "      <td>{'b': 0, 'kT': 1.0, 'a': 0, 'p': 0.1, 'N': 1000}</td>\n",
       "    </tr>\n",
       "    <tr>\n",
       "      <th>11d8997f19b8ba53d2360ee9fb1606fa</th>\n",
       "      <td>1000.0</td>\n",
       "      <td>5.536</td>\n",
       "      <td>0.03049</td>\n",
       "      <td>1.0</td>\n",
       "      <td>1.200</td>\n",
       "      <td>416.581783</td>\n",
       "      <td>30.659767</td>\n",
       "      <td>water</td>\n",
       "      <td>11d8997f19b8ba53d2360ee9fb1606fa</td>\n",
       "      <td>{'b': 0.03049, 'kT': 1.0, 'a': 5.536, 'p': 1.2...</td>\n",
       "    </tr>\n",
       "    <tr>\n",
       "      <th>195c26531df979e70d8f50267f67f0e5</th>\n",
       "      <td>1000.0</td>\n",
       "      <td>0.000</td>\n",
       "      <td>0.00000</td>\n",
       "      <td>1.0</td>\n",
       "      <td>7.525</td>\n",
       "      <td>132.890365</td>\n",
       "      <td>0.000000</td>\n",
       "      <td>NaN</td>\n",
       "      <td>195c26531df979e70d8f50267f67f0e5</td>\n",
       "      <td>{'b': 0, 'kT': 1.0, 'a': 0, 'p': 7.525, 'N': 1...</td>\n",
       "    </tr>\n",
       "    <tr>\n",
       "      <th>1f147aff97cbbda8aa7c4457a9b51159</th>\n",
       "      <td>1000.0</td>\n",
       "      <td>1.355</td>\n",
       "      <td>0.03201</td>\n",
       "      <td>1.0</td>\n",
       "      <td>4.500</td>\n",
       "      <td>110.715506</td>\n",
       "      <td>32.801209</td>\n",
       "      <td>argon</td>\n",
       "      <td>1f147aff97cbbda8aa7c4457a9b51159</td>\n",
       "      <td>{'b': 0.03201, 'kT': 1.0, 'a': 1.355, 'p': 4.5...</td>\n",
       "    </tr>\n",
       "  </tbody>\n",
       "</table>\n",
       "</div>"
      ],
      "text/plain": [
       "                                       N      a        b   kT      p  \\\n",
       "0e909ffdba496bbb590fbce31f3a4563  1000.0  0.000  0.00000  1.0  3.400   \n",
       "10743bc8b95bffab09503bce9abbe627  1000.0  0.000  0.00000  1.0  0.100   \n",
       "11d8997f19b8ba53d2360ee9fb1606fa  1000.0  5.536  0.03049  1.0  1.200   \n",
       "195c26531df979e70d8f50267f67f0e5  1000.0  0.000  0.00000  1.0  7.525   \n",
       "1f147aff97cbbda8aa7c4457a9b51159  1000.0  1.355  0.03201  1.0  4.500   \n",
       "\n",
       "                                         V_gas      V_liq      fluid  \\\n",
       "0e909ffdba496bbb590fbce31f3a4563    294.117647   0.000000  ideal gas   \n",
       "10743bc8b95bffab09503bce9abbe627  10000.000000   0.000000  ideal gas   \n",
       "11d8997f19b8ba53d2360ee9fb1606fa    416.581783  30.659767      water   \n",
       "195c26531df979e70d8f50267f67f0e5    132.890365   0.000000        NaN   \n",
       "1f147aff97cbbda8aa7c4457a9b51159    110.715506  32.801209      argon   \n",
       "\n",
       "                                                         signac_id  \\\n",
       "0e909ffdba496bbb590fbce31f3a4563  0e909ffdba496bbb590fbce31f3a4563   \n",
       "10743bc8b95bffab09503bce9abbe627  10743bc8b95bffab09503bce9abbe627   \n",
       "11d8997f19b8ba53d2360ee9fb1606fa  11d8997f19b8ba53d2360ee9fb1606fa   \n",
       "195c26531df979e70d8f50267f67f0e5  195c26531df979e70d8f50267f67f0e5   \n",
       "1f147aff97cbbda8aa7c4457a9b51159  1f147aff97cbbda8aa7c4457a9b51159   \n",
       "\n",
       "                                                                         statepoint  \n",
       "0e909ffdba496bbb590fbce31f3a4563  {'b': 0, 'kT': 1.0, 'a': 0, 'p': 3.40000000000...  \n",
       "10743bc8b95bffab09503bce9abbe627   {'b': 0, 'kT': 1.0, 'a': 0, 'p': 0.1, 'N': 1000}  \n",
       "11d8997f19b8ba53d2360ee9fb1606fa  {'b': 0.03049, 'kT': 1.0, 'a': 5.536, 'p': 1.2...  \n",
       "195c26531df979e70d8f50267f67f0e5  {'b': 0, 'kT': 1.0, 'a': 0, 'p': 7.525, 'N': 1...  \n",
       "1f147aff97cbbda8aa7c4457a9b51159  {'b': 0.03201, 'kT': 1.0, 'a': 1.355, 'p': 4.5...  "
      ]
     },
     "execution_count": 4,
     "metadata": {},
     "output_type": "execute_result"
    }
   ],
   "source": [
    "statepoints = {doc['_id']: doc['statepoint'] for doc in project.index()}\n",
    "df = pd.DataFrame(statepoints).T.join(df_index)\n",
    "df.head()"
   ]
  },
  {
   "cell_type": "markdown",
   "metadata": {},
   "source": [
    "Now we can select specific data subsets, for example to calculate the mean gas volume of argon for a pressure *p* between 2.0 and 5.0:"
   ]
  },
  {
   "cell_type": "code",
   "execution_count": 5,
   "metadata": {
    "collapsed": false
   },
   "outputs": [
    {
     "data": {
      "text/plain": [
       "158.12444608049668"
      ]
     },
     "execution_count": 5,
     "metadata": {},
     "output_type": "execute_result"
    }
   ],
   "source": [
    "df[(df.fluid=='argon') & (df.p > 2.0) & (df.p <= 5.0)].V_gas.mean()"
   ]
  },
  {
   "cell_type": "markdown",
   "metadata": {},
   "source": [
    "Or we can plot a p-V phase diagram for argon (*requires matplotlib*)."
   ]
  },
  {
   "cell_type": "code",
   "execution_count": 6,
   "metadata": {
    "collapsed": false
   },
   "outputs": [
    {
     "data": {
      "text/plain": [
       "<matplotlib.axes._subplots.AxesSubplot at 0x7f1e7d137c50>"
      ]
     },
     "execution_count": 6,
     "metadata": {},
     "output_type": "execute_result"
    },
    {
     "data": {
      "image/png": "[encoded data removed]",
      "text/plain": [
       "<matplotlib.figure.Figure at 0x7f1e7d137128>"
      ]
     },
     "metadata": {},
     "output_type": "display_data"
    }
   ],
   "source": [
    "% matplotlib inline\n",
    "\n",
    "df_water = df[df.fluid=='argon'][['p', 'V_liq', 'V_gas']]\n",
    "df_water.sort_values('p').set_index('p').plot(logy=True)"
   ]
  },
  {
   "cell_type": "markdown",
   "metadata": {},
   "source": [
    "Or we group the data by fluid and compare the gas densities for low pressures:"
   ]
  },
  {
   "cell_type": "code",
   "execution_count": 7,
   "metadata": {
    "collapsed": false
   },
   "outputs": [
    {
     "data": {
      "text/plain": [
       "<matplotlib.legend.Legend at 0x7f1e7a421cc0>"
      ]
     },
     "execution_count": 7,
     "metadata": {},
     "output_type": "execute_result"
    },
    {
     "data": {
      "image/png": "[encoded data removed]",
      "text/plain": [
       "<matplotlib.figure.Figure at 0x7f1e7a395a58>"
      ]
     },
     "metadata": {},
     "output_type": "display_data"
    }
   ],
   "source": [
    "from matplotlib import pyplot as plt\n",
    "\n",
    "for fluid, group in df[df.p < 2].groupby('fluid'):\n",
    "    d = group.sort_values('p')\n",
    "    plt.plot(d['p'], d['V_gas'] / d['N'], label=fluid)\n",
    "plt.xlabel('p')\n",
    "plt.ylabel(r'$\\rho_{gas}$')\n",
    "plt.legend(loc=0)"
   ]
  }
 ],
 "metadata": {
  "language_info": {
   "codemirror_mode": {
    "name": "ipython",
    "version": 3
   },
   "file_extension": ".py",
   "mimetype": "text/x-python",
   "name": "python",
   "nbconvert_exporter": "python",
   "pygments_lexer": "ipython3",
   "version": "3.5.2"
  }
 },
 "nbformat": 4,
 "nbformat_minor": 1
}

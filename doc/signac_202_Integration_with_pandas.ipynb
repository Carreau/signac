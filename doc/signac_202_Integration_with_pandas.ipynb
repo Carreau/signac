{
 "cells": [
  {
   "cell_type": "markdown",
   "metadata": {},
   "source": [
    "# 2.2 Integration with pandas data frames\n",
    "\n",
    "As was shown earlier, we can use indexes to search for specific data points.\n",
    "One way to operate on the data is using pandas data frames.\n",
    "\n",
    "*Please note: The following steps require the pandas package.*"
   ]
  },
  {
   "cell_type": "code",
   "execution_count": 1,
   "metadata": {},
   "outputs": [],
   "source": [
    "import signac\n",
    "import pandas as pd\n",
    "\n",
    "project = signac.get_project(root='projects/tutorial')"
   ]
  },
  {
   "cell_type": "markdown",
   "metadata": {},
   "source": [
    "Let's first create a basic index and use it to construct an index data frame:"
   ]
  },
  {
   "cell_type": "code",
   "execution_count": 2,
   "metadata": {},
   "outputs": [
    {
     "data": {
      "text/html": [
       "<div>\n",
       "<table border=\"1\" class=\"dataframe\">\n",
       "  <thead>\n",
       "    <tr style=\"text-align: right;\">\n",
       "      <th></th>\n",
       "      <th>V_gas</th>\n",
       "      <th>V_liq</th>\n",
       "      <th>_id</th>\n",
       "      <th>fluid</th>\n",
       "      <th>root</th>\n",
       "      <th>signac_id</th>\n",
       "      <th>statepoint</th>\n",
       "    </tr>\n",
       "  </thead>\n",
       "  <tbody>\n",
       "    <tr>\n",
       "      <th>0</th>\n",
       "      <td>294.117647</td>\n",
       "      <td>0.000000</td>\n",
       "      <td>0e909ffdba496bbb590fbce31f3a4563</td>\n",
       "      <td>ideal gas</td>\n",
       "      <td>/home/johndoe/signac-example...</td>\n",
       "      <td>0e909ffdba496bbb590fbce31f3a4563</td>\n",
       "      <td>{'kT': 1.0, 'a': 0, 'p': 3.4000000000000004, '...</td>\n",
       "    </tr>\n",
       "    <tr>\n",
       "      <th>1</th>\n",
       "      <td>10000.000000</td>\n",
       "      <td>0.000000</td>\n",
       "      <td>10743bc8b95bffab09503bce9abbe627</td>\n",
       "      <td>ideal gas</td>\n",
       "      <td>/home/johndoe/signac-example...</td>\n",
       "      <td>10743bc8b95bffab09503bce9abbe627</td>\n",
       "      <td>{'kT': 1.0, 'a': 0, 'p': 0.1, 'N': 1000, 'b': 0}</td>\n",
       "    </tr>\n",
       "    <tr>\n",
       "      <th>2</th>\n",
       "      <td>416.581783</td>\n",
       "      <td>30.659767</td>\n",
       "      <td>11d8997f19b8ba53d2360ee9fb1606fa</td>\n",
       "      <td>water</td>\n",
       "      <td>/home/johndoe/signac-example...</td>\n",
       "      <td>11d8997f19b8ba53d2360ee9fb1606fa</td>\n",
       "      <td>{'kT': 1.0, 'a': 5.536, 'p': 1.200000000000000...</td>\n",
       "    </tr>\n",
       "    <tr>\n",
       "      <th>3</th>\n",
       "      <td>132.890365</td>\n",
       "      <td>0.000000</td>\n",
       "      <td>195c26531df979e70d8f50267f67f0e5</td>\n",
       "      <td>NaN</td>\n",
       "      <td>/home/johndoe/signac-example...</td>\n",
       "      <td>195c26531df979e70d8f50267f67f0e5</td>\n",
       "      <td>{'kT': 1.0, 'a': 0, 'p': 7.525, 'N': 1000, 'b'...</td>\n",
       "    </tr>\n",
       "    <tr>\n",
       "      <th>4</th>\n",
       "      <td>110.715506</td>\n",
       "      <td>32.801209</td>\n",
       "      <td>1f147aff97cbbda8aa7c4457a9b51159</td>\n",
       "      <td>argon</td>\n",
       "      <td>/home/johndoe/signac-example...</td>\n",
       "      <td>1f147aff97cbbda8aa7c4457a9b51159</td>\n",
       "      <td>{'kT': 1.0, 'a': 1.355, 'p': 4.5, 'N': 1000, '...</td>\n",
       "    </tr>\n",
       "  </tbody>\n",
       "</table>\n",
       "</div>"
      ],
      "text/plain": [
       "          V_gas      V_liq                               _id      fluid  \\\n",
       "0    294.117647   0.000000  0e909ffdba496bbb590fbce31f3a4563  ideal gas   \n",
       "1  10000.000000   0.000000  10743bc8b95bffab09503bce9abbe627  ideal gas   \n",
       "2    416.581783  30.659767  11d8997f19b8ba53d2360ee9fb1606fa      water   \n",
       "3    132.890365   0.000000  195c26531df979e70d8f50267f67f0e5        NaN   \n",
       "4    110.715506  32.801209  1f147aff97cbbda8aa7c4457a9b51159      argon   \n",
       "\n",
       "                                                root  \\\n",
       "0  /home/johndoe/signac-example...   \n",
       "1  /home/johndoe/signac-example...   \n",
       "2  /home/johndoe/signac-example...   \n",
       "3  /home/johndoe/signac-example...   \n",
       "4  /home/johndoe/signac-example...   \n",
       "\n",
       "                          signac_id  \\\n",
       "0  0e909ffdba496bbb590fbce31f3a4563   \n",
       "1  10743bc8b95bffab09503bce9abbe627   \n",
       "2  11d8997f19b8ba53d2360ee9fb1606fa   \n",
       "3  195c26531df979e70d8f50267f67f0e5   \n",
       "4  1f147aff97cbbda8aa7c4457a9b51159   \n",
       "\n",
       "                                          statepoint  \n",
       "0  {'kT': 1.0, 'a': 0, 'p': 3.4000000000000004, '...  \n",
       "1   {'kT': 1.0, 'a': 0, 'p': 0.1, 'N': 1000, 'b': 0}  \n",
       "2  {'kT': 1.0, 'a': 5.536, 'p': 1.200000000000000...  \n",
       "3  {'kT': 1.0, 'a': 0, 'p': 7.525, 'N': 1000, 'b'...  \n",
       "4  {'kT': 1.0, 'a': 1.355, 'p': 4.5, 'N': 1000, '...  "
      ]
     },
     "execution_count": 2,
     "metadata": {},
     "output_type": "execute_result"
    }
   ],
   "source": [
    "df_index = pd.DataFrame(project.index())\n",
    "df_index.head()"
   ]
  },
  {
   "cell_type": "markdown",
   "metadata": {},
   "source": [
    "It is a good idea, to explicitly use the `_id` value as index key:"
   ]
  },
  {
   "cell_type": "code",
   "execution_count": 3,
   "metadata": {},
   "outputs": [
    {
     "data": {
      "text/html": [
       "<div>\n",
       "<table border=\"1\" class=\"dataframe\">\n",
       "  <thead>\n",
       "    <tr style=\"text-align: right;\">\n",
       "      <th></th>\n",
       "      <th>V_gas</th>\n",
       "      <th>V_liq</th>\n",
       "      <th>fluid</th>\n",
       "      <th>root</th>\n",
       "      <th>signac_id</th>\n",
       "      <th>statepoint</th>\n",
       "    </tr>\n",
       "    <tr>\n",
       "      <th>_id</th>\n",
       "      <th></th>\n",
       "      <th></th>\n",
       "      <th></th>\n",
       "      <th></th>\n",
       "      <th></th>\n",
       "      <th></th>\n",
       "    </tr>\n",
       "  </thead>\n",
       "  <tbody>\n",
       "    <tr>\n",
       "      <th>0e909ffdba496bbb590fbce31f3a4563</th>\n",
       "      <td>294.117647</td>\n",
       "      <td>0.000000</td>\n",
       "      <td>ideal gas</td>\n",
       "      <td>/home/johndoe/signac-example...</td>\n",
       "      <td>0e909ffdba496bbb590fbce31f3a4563</td>\n",
       "      <td>{'kT': 1.0, 'a': 0, 'p': 3.4000000000000004, '...</td>\n",
       "    </tr>\n",
       "    <tr>\n",
       "      <th>10743bc8b95bffab09503bce9abbe627</th>\n",
       "      <td>10000.000000</td>\n",
       "      <td>0.000000</td>\n",
       "      <td>ideal gas</td>\n",
       "      <td>/home/johndoe/signac-example...</td>\n",
       "      <td>10743bc8b95bffab09503bce9abbe627</td>\n",
       "      <td>{'kT': 1.0, 'a': 0, 'p': 0.1, 'N': 1000, 'b': 0}</td>\n",
       "    </tr>\n",
       "    <tr>\n",
       "      <th>11d8997f19b8ba53d2360ee9fb1606fa</th>\n",
       "      <td>416.581783</td>\n",
       "      <td>30.659767</td>\n",
       "      <td>water</td>\n",
       "      <td>/home/johndoe/signac-example...</td>\n",
       "      <td>11d8997f19b8ba53d2360ee9fb1606fa</td>\n",
       "      <td>{'kT': 1.0, 'a': 5.536, 'p': 1.200000000000000...</td>\n",
       "    </tr>\n",
       "    <tr>\n",
       "      <th>195c26531df979e70d8f50267f67f0e5</th>\n",
       "      <td>132.890365</td>\n",
       "      <td>0.000000</td>\n",
       "      <td>NaN</td>\n",
       "      <td>/home/johndoe/signac-example...</td>\n",
       "      <td>195c26531df979e70d8f50267f67f0e5</td>\n",
       "      <td>{'kT': 1.0, 'a': 0, 'p': 7.525, 'N': 1000, 'b'...</td>\n",
       "    </tr>\n",
       "    <tr>\n",
       "      <th>1f147aff97cbbda8aa7c4457a9b51159</th>\n",
       "      <td>110.715506</td>\n",
       "      <td>32.801209</td>\n",
       "      <td>argon</td>\n",
       "      <td>/home/johndoe/signac-example...</td>\n",
       "      <td>1f147aff97cbbda8aa7c4457a9b51159</td>\n",
       "      <td>{'kT': 1.0, 'a': 1.355, 'p': 4.5, 'N': 1000, '...</td>\n",
       "    </tr>\n",
       "  </tbody>\n",
       "</table>\n",
       "</div>"
      ],
      "text/plain": [
       "                                         V_gas      V_liq      fluid  \\\n",
       "_id                                                                    \n",
       "0e909ffdba496bbb590fbce31f3a4563    294.117647   0.000000  ideal gas   \n",
       "10743bc8b95bffab09503bce9abbe627  10000.000000   0.000000  ideal gas   \n",
       "11d8997f19b8ba53d2360ee9fb1606fa    416.581783  30.659767      water   \n",
       "195c26531df979e70d8f50267f67f0e5    132.890365   0.000000        NaN   \n",
       "1f147aff97cbbda8aa7c4457a9b51159    110.715506  32.801209      argon   \n",
       "\n",
       "                                                                               root  \\\n",
       "_id                                                                                   \n",
       "0e909ffdba496bbb590fbce31f3a4563  /home/johndoe/signac-example...   \n",
       "10743bc8b95bffab09503bce9abbe627  /home/johndoe/signac-example...   \n",
       "11d8997f19b8ba53d2360ee9fb1606fa  /home/johndoe/signac-example...   \n",
       "195c26531df979e70d8f50267f67f0e5  /home/johndoe/signac-example...   \n",
       "1f147aff97cbbda8aa7c4457a9b51159  /home/johndoe/signac-example...   \n",
       "\n",
       "                                                         signac_id  \\\n",
       "_id                                                                  \n",
       "0e909ffdba496bbb590fbce31f3a4563  0e909ffdba496bbb590fbce31f3a4563   \n",
       "10743bc8b95bffab09503bce9abbe627  10743bc8b95bffab09503bce9abbe627   \n",
       "11d8997f19b8ba53d2360ee9fb1606fa  11d8997f19b8ba53d2360ee9fb1606fa   \n",
       "195c26531df979e70d8f50267f67f0e5  195c26531df979e70d8f50267f67f0e5   \n",
       "1f147aff97cbbda8aa7c4457a9b51159  1f147aff97cbbda8aa7c4457a9b51159   \n",
       "\n",
       "                                                                         statepoint  \n",
       "_id                                                                                  \n",
       "0e909ffdba496bbb590fbce31f3a4563  {'kT': 1.0, 'a': 0, 'p': 3.4000000000000004, '...  \n",
       "10743bc8b95bffab09503bce9abbe627   {'kT': 1.0, 'a': 0, 'p': 0.1, 'N': 1000, 'b': 0}  \n",
       "11d8997f19b8ba53d2360ee9fb1606fa  {'kT': 1.0, 'a': 5.536, 'p': 1.200000000000000...  \n",
       "195c26531df979e70d8f50267f67f0e5  {'kT': 1.0, 'a': 0, 'p': 7.525, 'N': 1000, 'b'...  \n",
       "1f147aff97cbbda8aa7c4457a9b51159  {'kT': 1.0, 'a': 1.355, 'p': 4.5, 'N': 1000, '...  "
      ]
     },
     "execution_count": 3,
     "metadata": {},
     "output_type": "execute_result"
    }
   ],
   "source": [
    "df_index = df_index.set_index(['_id'])\n",
    "df_index.head()"
   ]
  },
  {
   "cell_type": "markdown",
   "metadata": {},
   "source": [
    "Furthermore, the index would be more useful if each statepoint parameter had its own column."
   ]
  },
  {
   "cell_type": "code",
   "execution_count": 4,
   "metadata": {},
   "outputs": [
    {
     "data": {
      "text/html": [
       "<div>\n",
       "<table border=\"1\" class=\"dataframe\">\n",
       "  <thead>\n",
       "    <tr style=\"text-align: right;\">\n",
       "      <th></th>\n",
       "      <th>N</th>\n",
       "      <th>a</th>\n",
       "      <th>b</th>\n",
       "      <th>kT</th>\n",
       "      <th>p</th>\n",
       "      <th>V_gas</th>\n",
       "      <th>V_liq</th>\n",
       "      <th>fluid</th>\n",
       "      <th>root</th>\n",
       "      <th>signac_id</th>\n",
       "      <th>statepoint</th>\n",
       "    </tr>\n",
       "  </thead>\n",
       "  <tbody>\n",
       "    <tr>\n",
       "      <th>0e909ffdba496bbb590fbce31f3a4563</th>\n",
       "      <td>1000.0</td>\n",
       "      <td>0.000</td>\n",
       "      <td>0.00000</td>\n",
       "      <td>1.0</td>\n",
       "      <td>3.400</td>\n",
       "      <td>294.117647</td>\n",
       "      <td>0.000000</td>\n",
       "      <td>ideal gas</td>\n",
       "      <td>/home/johndoe/signac-example...</td>\n",
       "      <td>0e909ffdba496bbb590fbce31f3a4563</td>\n",
       "      <td>{'kT': 1.0, 'a': 0, 'p': 3.4000000000000004, '...</td>\n",
       "    </tr>\n",
       "    <tr>\n",
       "      <th>10743bc8b95bffab09503bce9abbe627</th>\n",
       "      <td>1000.0</td>\n",
       "      <td>0.000</td>\n",
       "      <td>0.00000</td>\n",
       "      <td>1.0</td>\n",
       "      <td>0.100</td>\n",
       "      <td>10000.000000</td>\n",
       "      <td>0.000000</td>\n",
       "      <td>ideal gas</td>\n",
       "      <td>/home/johndoe/signac-example...</td>\n",
       "      <td>10743bc8b95bffab09503bce9abbe627</td>\n",
       "      <td>{'kT': 1.0, 'a': 0, 'p': 0.1, 'N': 1000, 'b': 0}</td>\n",
       "    </tr>\n",
       "    <tr>\n",
       "      <th>11d8997f19b8ba53d2360ee9fb1606fa</th>\n",
       "      <td>1000.0</td>\n",
       "      <td>5.536</td>\n",
       "      <td>0.03049</td>\n",
       "      <td>1.0</td>\n",
       "      <td>1.200</td>\n",
       "      <td>416.581783</td>\n",
       "      <td>30.659767</td>\n",
       "      <td>water</td>\n",
       "      <td>/home/johndoe/signac-example...</td>\n",
       "      <td>11d8997f19b8ba53d2360ee9fb1606fa</td>\n",
       "      <td>{'kT': 1.0, 'a': 5.536, 'p': 1.200000000000000...</td>\n",
       "    </tr>\n",
       "    <tr>\n",
       "      <th>195c26531df979e70d8f50267f67f0e5</th>\n",
       "      <td>1000.0</td>\n",
       "      <td>0.000</td>\n",
       "      <td>0.00000</td>\n",
       "      <td>1.0</td>\n",
       "      <td>7.525</td>\n",
       "      <td>132.890365</td>\n",
       "      <td>0.000000</td>\n",
       "      <td>NaN</td>\n",
       "      <td>/home/johndoe/signac-example...</td>\n",
       "      <td>195c26531df979e70d8f50267f67f0e5</td>\n",
       "      <td>{'kT': 1.0, 'a': 0, 'p': 7.525, 'N': 1000, 'b'...</td>\n",
       "    </tr>\n",
       "    <tr>\n",
       "      <th>1f147aff97cbbda8aa7c4457a9b51159</th>\n",
       "      <td>1000.0</td>\n",
       "      <td>1.355</td>\n",
       "      <td>0.03201</td>\n",
       "      <td>1.0</td>\n",
       "      <td>4.500</td>\n",
       "      <td>110.715506</td>\n",
       "      <td>32.801209</td>\n",
       "      <td>argon</td>\n",
       "      <td>/home/johndoe/signac-example...</td>\n",
       "      <td>1f147aff97cbbda8aa7c4457a9b51159</td>\n",
       "      <td>{'kT': 1.0, 'a': 1.355, 'p': 4.5, 'N': 1000, '...</td>\n",
       "    </tr>\n",
       "  </tbody>\n",
       "</table>\n",
       "</div>"
      ],
      "text/plain": [
       "                                       N      a        b   kT      p  \\\n",
       "0e909ffdba496bbb590fbce31f3a4563  1000.0  0.000  0.00000  1.0  3.400   \n",
       "10743bc8b95bffab09503bce9abbe627  1000.0  0.000  0.00000  1.0  0.100   \n",
       "11d8997f19b8ba53d2360ee9fb1606fa  1000.0  5.536  0.03049  1.0  1.200   \n",
       "195c26531df979e70d8f50267f67f0e5  1000.0  0.000  0.00000  1.0  7.525   \n",
       "1f147aff97cbbda8aa7c4457a9b51159  1000.0  1.355  0.03201  1.0  4.500   \n",
       "\n",
       "                                         V_gas      V_liq      fluid  \\\n",
       "0e909ffdba496bbb590fbce31f3a4563    294.117647   0.000000  ideal gas   \n",
       "10743bc8b95bffab09503bce9abbe627  10000.000000   0.000000  ideal gas   \n",
       "11d8997f19b8ba53d2360ee9fb1606fa    416.581783  30.659767      water   \n",
       "195c26531df979e70d8f50267f67f0e5    132.890365   0.000000        NaN   \n",
       "1f147aff97cbbda8aa7c4457a9b51159    110.715506  32.801209      argon   \n",
       "\n",
       "                                                                               root  \\\n",
       "0e909ffdba496bbb590fbce31f3a4563  /home/johndoe/signac-example...   \n",
       "10743bc8b95bffab09503bce9abbe627  /home/johndoe/signac-example...   \n",
       "11d8997f19b8ba53d2360ee9fb1606fa  /home/johndoe/signac-example...   \n",
       "195c26531df979e70d8f50267f67f0e5  /home/johndoe/signac-example...   \n",
       "1f147aff97cbbda8aa7c4457a9b51159  /home/johndoe/signac-example...   \n",
       "\n",
       "                                                         signac_id  \\\n",
       "0e909ffdba496bbb590fbce31f3a4563  0e909ffdba496bbb590fbce31f3a4563   \n",
       "10743bc8b95bffab09503bce9abbe627  10743bc8b95bffab09503bce9abbe627   \n",
       "11d8997f19b8ba53d2360ee9fb1606fa  11d8997f19b8ba53d2360ee9fb1606fa   \n",
       "195c26531df979e70d8f50267f67f0e5  195c26531df979e70d8f50267f67f0e5   \n",
       "1f147aff97cbbda8aa7c4457a9b51159  1f147aff97cbbda8aa7c4457a9b51159   \n",
       "\n",
       "                                                                         statepoint  \n",
       "0e909ffdba496bbb590fbce31f3a4563  {'kT': 1.0, 'a': 0, 'p': 3.4000000000000004, '...  \n",
       "10743bc8b95bffab09503bce9abbe627   {'kT': 1.0, 'a': 0, 'p': 0.1, 'N': 1000, 'b': 0}  \n",
       "11d8997f19b8ba53d2360ee9fb1606fa  {'kT': 1.0, 'a': 5.536, 'p': 1.200000000000000...  \n",
       "195c26531df979e70d8f50267f67f0e5  {'kT': 1.0, 'a': 0, 'p': 7.525, 'N': 1000, 'b'...  \n",
       "1f147aff97cbbda8aa7c4457a9b51159  {'kT': 1.0, 'a': 1.355, 'p': 4.5, 'N': 1000, '...  "
      ]
     },
     "execution_count": 4,
     "metadata": {},
     "output_type": "execute_result"
    }
   ],
   "source": [
    "statepoints = {doc['_id']: doc['statepoint'] for doc in project.index()}\n",
    "df = pd.DataFrame(statepoints).T.join(df_index)\n",
    "df.head()"
   ]
  },
  {
   "cell_type": "markdown",
   "metadata": {},
   "source": [
    "Now we can select specific data subsets, for example to calculate the mean gas volume of argon for a pressure *p* between 2.0 and 5.0:"
   ]
  },
  {
   "cell_type": "code",
   "execution_count": 5,
   "metadata": {},
   "outputs": [
    {
     "data": {
      "text/plain": [
       "158.12444608049674"
      ]
     },
     "execution_count": 5,
     "metadata": {},
     "output_type": "execute_result"
    }
   ],
   "source": [
    "df[(df.fluid=='argon') & (df.p > 2.0) & (df.p <= 5.0)].V_gas.mean()"
   ]
  },
  {
   "cell_type": "markdown",
   "metadata": {},
   "source": [
    "Or we can plot a p-V phase diagram for argon (*requires matplotlib*)."
   ]
  },
  {
   "cell_type": "code",
   "execution_count": 6,
   "metadata": {},
   "outputs": [
    {
     "data": {
      "text/plain": [
       "<matplotlib.axes._subplots.AxesSubplot at 0x10fce6c18>"
      ]
     },
     "execution_count": 6,
     "metadata": {},
     "output_type": "execute_result"
    },
    {
     "data": {
      "image/png": "[encoded data removed]",
      "text/plain": [
       "<matplotlib.figure.Figure at 0x10fc56eb8>"
      ]
     },
     "metadata": {},
     "output_type": "display_data"
    }
   ],
   "source": [
    "% matplotlib inline\n",
    "\n",
    "df_water = df[df.fluid=='argon'][['p', 'V_liq', 'V_gas']]\n",
    "df_water.sort_values('p').set_index('p').plot(logy=True)"
   ]
  },
  {
   "cell_type": "markdown",
   "metadata": {},
   "source": [
    "Or we group the data by fluid and compare the gas densities for low pressures:"
   ]
  },
  {
   "cell_type": "code",
   "execution_count": 7,
   "metadata": {},
   "outputs": [
    {
     "data": {
      "text/plain": [
       "<matplotlib.legend.Legend at 0x1130da0b8>"
      ]
     },
     "execution_count": 7,
     "metadata": {},
     "output_type": "execute_result"
    },
    {
     "data": {
      "image/png": "[encoded data removed]",
      "text/plain": [
       "<matplotlib.figure.Figure at 0x1130592e8>"
      ]
     },
     "metadata": {},
     "output_type": "display_data"
    }
   ],
   "source": [
    "from matplotlib import pyplot as plt\n",
    "\n",
    "for fluid, group in df[df.p < 2].groupby('fluid'):\n",
    "    d = group.sort_values('p')\n",
    "    plt.plot(d['p'], d['V_gas'] / d['N'], label=fluid)\n",
    "plt.xlabel('p')\n",
    "plt.ylabel(r'$\\rho_{gas}$')\n",
    "plt.legend(loc=0)"
   ]
  }
 ],
 "metadata": {
  "kernelspec": {
   "display_name": "Python 3",
   "language": "python",
   "name": "python3"
  },
  "language_info": {
   "codemirror_mode": {
    "name": "ipython",
    "version": 3
   },
   "file_extension": ".py",
   "mimetype": "text/x-python",
   "name": "python",
   "nbconvert_exporter": "python",
   "pygments_lexer": "ipython3",
   "version": "3.5.3"
  }
 },
 "nbformat": 4,
 "nbformat_minor": 1
}
